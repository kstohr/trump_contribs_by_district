{
 "cells": [
  {
   "cell_type": "code",
   "execution_count": 361,
   "metadata": {
    "collapsed": false
   },
   "outputs": [],
   "source": [
    "import pandas as pd\n",
    "import numpy as np\n",
    "import geopandas as gpd\n",
    "import locale\n",
    "import babel.numbers\n",
    "import decimal"
   ]
  },
  {
   "cell_type": "code",
   "execution_count": 350,
   "metadata": {
    "collapsed": true
   },
   "outputs": [],
   "source": [
    "## Set Options"
   ]
  },
  {
   "cell_type": "code",
   "execution_count": 351,
   "metadata": {
    "collapsed": false
   },
   "outputs": [
    {
     "data": {
      "text/plain": [
       "'English_United States.1252'"
      ]
     },
     "execution_count": 351,
     "metadata": {},
     "output_type": "execute_result"
    }
   ],
   "source": [
    "locale.setlocale( locale.LC_ALL, '' )\n",
    "'English_United States.1252'"
   ]
  },
  {
   "cell_type": "code",
   "execution_count": 275,
   "metadata": {
    "collapsed": false
   },
   "outputs": [],
   "source": [
    "trump_districts = pd.read_csv('https://docs.google.com/spreadsheets/d/11nBAu3jHlJe3N9bbmniawP_WuIs6FURl1u1qXjUddZQ/pub?gid=2080606191&single=true&output=csv')"
   ]
  },
  {
   "cell_type": "code",
   "execution_count": 276,
   "metadata": {
    "collapsed": false
   },
   "outputs": [
    {
     "data": {
      "text/plain": [
       "436"
      ]
     },
     "execution_count": 276,
     "metadata": {},
     "output_type": "execute_result"
    }
   ],
   "source": [
    "len(trump_districts)"
   ]
  },
  {
   "cell_type": "code",
   "execution_count": 277,
   "metadata": {
    "collapsed": false,
    "scrolled": true
   },
   "outputs": [
    {
     "data": {
      "text/html": [
       "<div>\n",
       "<table border=\"1\" class=\"dataframe\">\n",
       "  <thead>\n",
       "    <tr style=\"text-align: right;\">\n",
       "      <th></th>\n",
       "      <th>state</th>\n",
       "      <th>district</th>\n",
       "      <th>min_num</th>\n",
       "      <th>min_amt</th>\n",
       "      <th>split_num</th>\n",
       "      <th>split_amt</th>\n",
       "      <th>max_num</th>\n",
       "      <th>max_amt</th>\n",
       "    </tr>\n",
       "  </thead>\n",
       "  <tbody>\n",
       "    <tr>\n",
       "      <th>0</th>\n",
       "      <td>MS</td>\n",
       "      <td>1</td>\n",
       "      <td>5</td>\n",
       "      <td>4700</td>\n",
       "      <td>5</td>\n",
       "      <td>4700</td>\n",
       "      <td>5</td>\n",
       "      <td>4700</td>\n",
       "    </tr>\n",
       "    <tr>\n",
       "      <th>1</th>\n",
       "      <td>KS</td>\n",
       "      <td>3</td>\n",
       "      <td>13</td>\n",
       "      <td>7110</td>\n",
       "      <td>14</td>\n",
       "      <td>7735</td>\n",
       "      <td>15</td>\n",
       "      <td>8360</td>\n",
       "    </tr>\n",
       "    <tr>\n",
       "      <th>2</th>\n",
       "      <td>WA</td>\n",
       "      <td>5</td>\n",
       "      <td>4</td>\n",
       "      <td>2750</td>\n",
       "      <td>4</td>\n",
       "      <td>2750</td>\n",
       "      <td>4</td>\n",
       "      <td>2750</td>\n",
       "    </tr>\n",
       "  </tbody>\n",
       "</table>\n",
       "</div>"
      ],
      "text/plain": [
       "  state  district  min_num  min_amt  split_num  split_amt  max_num  max_amt\n",
       "0    MS         1        5     4700          5       4700        5     4700\n",
       "1    KS         3       13     7110         14       7735       15     8360\n",
       "2    WA         5        4     2750          4       2750        4     2750"
      ]
     },
     "execution_count": 277,
     "metadata": {},
     "output_type": "execute_result"
    }
   ],
   "source": [
    "trump_districts.head(3)\n",
    "#trump_districts.dtypes"
   ]
  },
  {
   "cell_type": "code",
   "execution_count": 278,
   "metadata": {
    "collapsed": false
   },
   "outputs": [
    {
     "data": {
      "text/html": [
       "<div>\n",
       "<table border=\"1\" class=\"dataframe\">\n",
       "  <thead>\n",
       "    <tr style=\"text-align: right;\">\n",
       "      <th></th>\n",
       "      <th>state</th>\n",
       "      <th>district</th>\n",
       "      <th>min_num</th>\n",
       "      <th>min_amt</th>\n",
       "      <th>split_num</th>\n",
       "      <th>split_amt</th>\n",
       "      <th>max_num</th>\n",
       "      <th>max_amt</th>\n",
       "    </tr>\n",
       "  </thead>\n",
       "  <tbody>\n",
       "    <tr>\n",
       "      <th>0</th>\n",
       "      <td>MS</td>\n",
       "      <td>01</td>\n",
       "      <td>5</td>\n",
       "      <td>4700</td>\n",
       "      <td>5</td>\n",
       "      <td>4700</td>\n",
       "      <td>5</td>\n",
       "      <td>4700</td>\n",
       "    </tr>\n",
       "    <tr>\n",
       "      <th>1</th>\n",
       "      <td>KS</td>\n",
       "      <td>03</td>\n",
       "      <td>13</td>\n",
       "      <td>7110</td>\n",
       "      <td>14</td>\n",
       "      <td>7735</td>\n",
       "      <td>15</td>\n",
       "      <td>8360</td>\n",
       "    </tr>\n",
       "    <tr>\n",
       "      <th>2</th>\n",
       "      <td>WA</td>\n",
       "      <td>05</td>\n",
       "      <td>4</td>\n",
       "      <td>2750</td>\n",
       "      <td>4</td>\n",
       "      <td>2750</td>\n",
       "      <td>4</td>\n",
       "      <td>2750</td>\n",
       "    </tr>\n",
       "  </tbody>\n",
       "</table>\n",
       "</div>"
      ],
      "text/plain": [
       "  state district  min_num  min_amt  split_num  split_amt  max_num  max_amt\n",
       "0    MS       01        5     4700          5       4700        5     4700\n",
       "1    KS       03       13     7110         14       7735       15     8360\n",
       "2    WA       05        4     2750          4       2750        4     2750"
      ]
     },
     "execution_count": 278,
     "metadata": {},
     "output_type": "execute_result"
    }
   ],
   "source": [
    "trump_districts['split_num'] = trump_districts['split_num'].astype(int)\n",
    "trump_districts['district'] = trump_districts['district'].astype(int).map(\"{:02}\".format)\n",
    "trump_districts.head(3)"
   ]
  },
  {
   "cell_type": "code",
   "execution_count": 279,
   "metadata": {
    "collapsed": false
   },
   "outputs": [
    {
     "data": {
      "text/html": [
       "<div>\n",
       "<table border=\"1\" class=\"dataframe\">\n",
       "  <thead>\n",
       "    <tr style=\"text-align: right;\">\n",
       "      <th></th>\n",
       "      <th>state</th>\n",
       "      <th>district</th>\n",
       "      <th>min_num</th>\n",
       "      <th>min_amt</th>\n",
       "      <th>split_num</th>\n",
       "      <th>split_amt</th>\n",
       "      <th>max_num</th>\n",
       "      <th>max_amt</th>\n",
       "    </tr>\n",
       "  </thead>\n",
       "  <tbody>\n",
       "    <tr>\n",
       "      <th>61</th>\n",
       "      <td>VI</td>\n",
       "      <td>AL</td>\n",
       "      <td>1</td>\n",
       "      <td>250</td>\n",
       "      <td>1</td>\n",
       "      <td>250</td>\n",
       "      <td>1</td>\n",
       "      <td>250</td>\n",
       "    </tr>\n",
       "    <tr>\n",
       "      <th>72</th>\n",
       "      <td>VT</td>\n",
       "      <td>AL</td>\n",
       "      <td>3</td>\n",
       "      <td>750</td>\n",
       "      <td>3</td>\n",
       "      <td>750</td>\n",
       "      <td>3</td>\n",
       "      <td>750</td>\n",
       "    </tr>\n",
       "    <tr>\n",
       "      <th>179</th>\n",
       "      <td>DE</td>\n",
       "      <td>AL</td>\n",
       "      <td>11</td>\n",
       "      <td>3598</td>\n",
       "      <td>11</td>\n",
       "      <td>3598</td>\n",
       "      <td>11</td>\n",
       "      <td>3598</td>\n",
       "    </tr>\n",
       "    <tr>\n",
       "      <th>183</th>\n",
       "      <td>WY</td>\n",
       "      <td>AL</td>\n",
       "      <td>10</td>\n",
       "      <td>5932</td>\n",
       "      <td>10</td>\n",
       "      <td>5932</td>\n",
       "      <td>10</td>\n",
       "      <td>5932</td>\n",
       "    </tr>\n",
       "    <tr>\n",
       "      <th>208</th>\n",
       "      <td>DC</td>\n",
       "      <td>AL</td>\n",
       "      <td>14</td>\n",
       "      <td>5654</td>\n",
       "      <td>14</td>\n",
       "      <td>5654</td>\n",
       "      <td>14</td>\n",
       "      <td>5654</td>\n",
       "    </tr>\n",
       "    <tr>\n",
       "      <th>291</th>\n",
       "      <td>SD</td>\n",
       "      <td>AL</td>\n",
       "      <td>6</td>\n",
       "      <td>3860</td>\n",
       "      <td>6</td>\n",
       "      <td>3860</td>\n",
       "      <td>6</td>\n",
       "      <td>3860</td>\n",
       "    </tr>\n",
       "    <tr>\n",
       "      <th>304</th>\n",
       "      <td>MT</td>\n",
       "      <td>AL</td>\n",
       "      <td>7</td>\n",
       "      <td>5043</td>\n",
       "      <td>7</td>\n",
       "      <td>5043</td>\n",
       "      <td>7</td>\n",
       "      <td>5043</td>\n",
       "    </tr>\n",
       "    <tr>\n",
       "      <th>349</th>\n",
       "      <td>AK</td>\n",
       "      <td>AL</td>\n",
       "      <td>15</td>\n",
       "      <td>11805</td>\n",
       "      <td>15</td>\n",
       "      <td>11805</td>\n",
       "      <td>15</td>\n",
       "      <td>11805</td>\n",
       "    </tr>\n",
       "    <tr>\n",
       "      <th>394</th>\n",
       "      <td>ND</td>\n",
       "      <td>AL</td>\n",
       "      <td>4</td>\n",
       "      <td>1984</td>\n",
       "      <td>4</td>\n",
       "      <td>1984</td>\n",
       "      <td>4</td>\n",
       "      <td>1984</td>\n",
       "    </tr>\n",
       "  </tbody>\n",
       "</table>\n",
       "</div>"
      ],
      "text/plain": [
       "    state district  min_num  min_amt  split_num  split_amt  max_num  max_amt\n",
       "61     VI       AL        1      250          1        250        1      250\n",
       "72     VT       AL        3      750          3        750        3      750\n",
       "179    DE       AL       11     3598         11       3598       11     3598\n",
       "183    WY       AL       10     5932         10       5932       10     5932\n",
       "208    DC       AL       14     5654         14       5654       14     5654\n",
       "291    SD       AL        6     3860          6       3860        6     3860\n",
       "304    MT       AL        7     5043          7       5043        7     5043\n",
       "349    AK       AL       15    11805         15      11805       15    11805\n",
       "394    ND       AL        4     1984          4       1984        4     1984"
      ]
     },
     "execution_count": 279,
     "metadata": {},
     "output_type": "execute_result"
    }
   ],
   "source": [
    "#Convert district number to 'AL' for at larte districts - SEE NOTE BELOW\n",
    "for i in al:\n",
    "    trump_districts.loc[i, 'district'] = 'AL'\n",
    "trump_districts.loc[al,:]"
   ]
  },
  {
   "cell_type": "code",
   "execution_count": 280,
   "metadata": {
    "collapsed": false
   },
   "outputs": [
    {
     "data": {
      "text/plain": [
       "436"
      ]
     },
     "execution_count": 280,
     "metadata": {},
     "output_type": "execute_result"
    }
   ],
   "source": [
    "trump_districts['cd_id'] = trump_districts.state.str.cat(trump_districts.district, sep='-')\n",
    "trump_districts\n",
    "len(trump_districts)"
   ]
  },
  {
   "cell_type": "markdown",
   "metadata": {},
   "source": [
    "## Get district by 2012 winning party"
   ]
  },
  {
   "cell_type": "code",
   "execution_count": 281,
   "metadata": {
    "collapsed": true
   },
   "outputs": [],
   "source": [
    "party_by_district115C = pd.read_csv('https://docs.google.com/spreadsheets/d/1Motlc8nNUPOd-f_9G_lOW4fO073e1pdAX7V6DpBzkY8/pub?output=csv')"
   ]
  },
  {
   "cell_type": "code",
   "execution_count": 282,
   "metadata": {
    "collapsed": false
   },
   "outputs": [
    {
     "data": {
      "text/plain": [
       "435"
      ]
     },
     "execution_count": 282,
     "metadata": {},
     "output_type": "execute_result"
    }
   ],
   "source": [
    "#note one district off. \n",
    "len(party_by_district115C)"
   ]
  },
  {
   "cell_type": "code",
   "execution_count": 283,
   "metadata": {
    "collapsed": false
   },
   "outputs": [
    {
     "data": {
      "text/html": [
       "<div>\n",
       "<table border=\"1\" class=\"dataframe\">\n",
       "  <thead>\n",
       "    <tr style=\"text-align: right;\">\n",
       "      <th></th>\n",
       "      <th>CD</th>\n",
       "      <th>Incumbent</th>\n",
       "      <th>Party</th>\n",
       "      <th>Obama 2012</th>\n",
       "      <th>Romney 2012</th>\n",
       "      <th>Obama 2008</th>\n",
       "      <th>McCain 2008</th>\n",
       "    </tr>\n",
       "  </thead>\n",
       "  <tbody>\n",
       "    <tr>\n",
       "      <th>0</th>\n",
       "      <td>AK-AL</td>\n",
       "      <td>Young, Don</td>\n",
       "      <td>(R)</td>\n",
       "      <td>41.2</td>\n",
       "      <td>55.3</td>\n",
       "      <td>38.1</td>\n",
       "      <td>59.7</td>\n",
       "    </tr>\n",
       "  </tbody>\n",
       "</table>\n",
       "</div>"
      ],
      "text/plain": [
       "      CD   Incumbent Party  Obama 2012  Romney 2012  Obama 2008  McCain 2008\n",
       "0  AK-AL  Young, Don   (R)        41.2         55.3        38.1         59.7"
      ]
     },
     "execution_count": 283,
     "metadata": {},
     "output_type": "execute_result"
    }
   ],
   "source": [
    "party_by_district115C.head(1)\n",
    "#party_by_district115C[party_by_district115C.CD.str.contains('ZZ')==True]"
   ]
  },
  {
   "cell_type": "code",
   "execution_count": 284,
   "metadata": {
    "collapsed": false
   },
   "outputs": [
    {
     "data": {
      "text/plain": [
       "count     435\n",
       "unique      2\n",
       "top       (R)\n",
       "freq      224\n",
       "Name: 2012_party, dtype: object"
      ]
     },
     "execution_count": 284,
     "metadata": {},
     "output_type": "execute_result"
    }
   ],
   "source": [
    "#add variable for winnig party in 2012 election results for each district\n",
    "party_by_district115C['2012_party'] = None\n",
    "obama = party_by_district115C[party_by_district115C['Obama 2012'] >= party_by_district115C['Romney 2012']]\n",
    "\n",
    "obama =obama.index\n",
    "romney = party_by_district115C.index[~party_by_district115C.index.isin(obama)]\n",
    "\n",
    "party_by_district115C.loc[obama,'2012_party'] = '(D)'\n",
    "party_by_district115C.loc[romney,'2012_party'] = '(R)'\n",
    "\n",
    "party_by_district115C['2012_party'].describe()"
   ]
  },
  {
   "cell_type": "code",
   "execution_count": 285,
   "metadata": {
    "collapsed": false
   },
   "outputs": [
    {
     "data": {
      "text/html": [
       "<div>\n",
       "<table border=\"1\" class=\"dataframe\">\n",
       "  <thead>\n",
       "    <tr style=\"text-align: right;\">\n",
       "      <th></th>\n",
       "      <th>cd_id</th>\n",
       "      <th>party</th>\n",
       "    </tr>\n",
       "  </thead>\n",
       "  <tbody>\n",
       "    <tr>\n",
       "      <th>0</th>\n",
       "      <td>AK-AL</td>\n",
       "      <td>(R)</td>\n",
       "    </tr>\n",
       "    <tr>\n",
       "      <th>1</th>\n",
       "      <td>AL-01</td>\n",
       "      <td>(R)</td>\n",
       "    </tr>\n",
       "    <tr>\n",
       "      <th>2</th>\n",
       "      <td>AL-02</td>\n",
       "      <td>(R)</td>\n",
       "    </tr>\n",
       "  </tbody>\n",
       "</table>\n",
       "</div>"
      ],
      "text/plain": [
       "   cd_id party\n",
       "0  AK-AL   (R)\n",
       "1  AL-01   (R)\n",
       "2  AL-02   (R)"
      ]
     },
     "execution_count": 285,
     "metadata": {},
     "output_type": "execute_result"
    }
   ],
   "source": [
    "dist_party = party_by_district115C[['CD', '2012_party']]\n",
    "dist_party.columns = ['cd_id', 'party']\n",
    "dist_party.head(3)"
   ]
  },
  {
   "cell_type": "markdown",
   "metadata": {},
   "source": [
    "## get statefp codes "
   ]
  },
  {
   "cell_type": "code",
   "execution_count": 391,
   "metadata": {
    "collapsed": true
   },
   "outputs": [],
   "source": [
    "#113th Congressional District Codes\n",
    "#Source: http://www2.census.gov/geo/docs/reference/codes/files/national_cd113.txt\n",
    "codes = pd.read_csv('https://docs.google.com/spreadsheets/d/1P7rSu7FCyhc4SU7EiCVDQoGC5n4DAbqnsgPcSXt3YKg/pub?gid=875229823&single=true&output=csv')"
   ]
  },
  {
   "cell_type": "code",
   "execution_count": 392,
   "metadata": {
    "collapsed": false
   },
   "outputs": [
    {
     "data": {
      "text/html": [
       "<div>\n",
       "<table border=\"1\" class=\"dataframe\">\n",
       "  <thead>\n",
       "    <tr style=\"text-align: right;\">\n",
       "      <th></th>\n",
       "      <th>STATE</th>\n",
       "      <th>STATEFP</th>\n",
       "    </tr>\n",
       "  </thead>\n",
       "  <tbody>\n",
       "    <tr>\n",
       "      <th>0</th>\n",
       "      <td>AL</td>\n",
       "      <td>01</td>\n",
       "    </tr>\n",
       "    <tr>\n",
       "      <th>1</th>\n",
       "      <td>AL</td>\n",
       "      <td>01</td>\n",
       "    </tr>\n",
       "    <tr>\n",
       "      <th>2</th>\n",
       "      <td>AL</td>\n",
       "      <td>01</td>\n",
       "    </tr>\n",
       "  </tbody>\n",
       "</table>\n",
       "</div>"
      ],
      "text/plain": [
       "  STATE STATEFP\n",
       "0    AL      01\n",
       "1    AL      01\n",
       "2    AL      01"
      ]
     },
     "execution_count": 392,
     "metadata": {},
     "output_type": "execute_result"
    }
   ],
   "source": [
    "#isolate state codes\n",
    "codes.head()\n",
    "st_codes = codes[['STATE', 'STATEFP']]\n",
    "st_codes.loc[:,'STATEFP'] = st_codes.loc[:,'STATEFP'].astype(int).map(\"{:02}\".format)\n",
    "st_codes.loc[:,'STATEFP'] = st_codes.loc[:,'STATEFP'].astype('str')\n",
    "st_codes.head(3)"
   ]
  },
  {
   "cell_type": "code",
   "execution_count": 288,
   "metadata": {
    "collapsed": false
   },
   "outputs": [
    {
     "data": {
      "text/plain": [
       "56"
      ]
     },
     "execution_count": 288,
     "metadata": {},
     "output_type": "execute_result"
    }
   ],
   "source": [
    "st_codes = st_codes.drop_duplicates()\n",
    "len(st_codes)"
   ]
  },
  {
   "cell_type": "markdown",
   "metadata": {},
   "source": [
    "## Clean Shape File"
   ]
  },
  {
   "cell_type": "code",
   "execution_count": 289,
   "metadata": {
    "collapsed": true
   },
   "outputs": [],
   "source": [
    "# Information on latest redistricting changes: http://redistricting.lls.edu/\n",
    "#Census Bureau 113th congress congressional district shape file \n",
    "#Source: https://www.census.gov/cgi-bin/geo/shapefilesrd13/file-download\n",
    "cds_113_shp = gpd.read_file('tl_rd13_us_cd113/tl_rd13_us_cd113.shp')"
   ]
  },
  {
   "cell_type": "code",
   "execution_count": 290,
   "metadata": {
    "collapsed": false
   },
   "outputs": [],
   "source": [
    "#cds_113_shp.info()"
   ]
  },
  {
   "cell_type": "code",
   "execution_count": 291,
   "metadata": {
    "collapsed": false
   },
   "outputs": [],
   "source": [
    "cds_113_shp.loc[:,'STATEFP'] = cds_113_shp.loc[:,'STATEFP'].astype(int).map(\"{:02}\".format)\n",
    "cds_113_shp.loc[:,'STATEFP'] = cds_113_shp.loc[:,'STATEFP'].astype('str')"
   ]
  },
  {
   "cell_type": "code",
   "execution_count": 293,
   "metadata": {
    "collapsed": false
   },
   "outputs": [
    {
     "data": {
      "text/html": [
       "<div>\n",
       "<table border=\"1\" class=\"dataframe\">\n",
       "  <thead>\n",
       "    <tr style=\"text-align: right;\">\n",
       "      <th></th>\n",
       "      <th>ALAND</th>\n",
       "      <th>AWATER</th>\n",
       "      <th>CD113FP</th>\n",
       "      <th>CDSESSN</th>\n",
       "      <th>FUNCSTAT</th>\n",
       "      <th>GEOID</th>\n",
       "      <th>INTPTLAT</th>\n",
       "      <th>INTPTLON</th>\n",
       "      <th>LSAD</th>\n",
       "      <th>MTFCC</th>\n",
       "      <th>NAMELSAD</th>\n",
       "      <th>STATEFP</th>\n",
       "      <th>geometry</th>\n",
       "    </tr>\n",
       "  </thead>\n",
       "  <tbody>\n",
       "    <tr>\n",
       "      <th>172</th>\n",
       "      <td>26304372148</td>\n",
       "      <td>330254983</td>\n",
       "      <td>07</td>\n",
       "      <td>113</td>\n",
       "      <td>N</td>\n",
       "      <td>0107</td>\n",
       "      <td>+32.4492349</td>\n",
       "      <td>-087.6405014</td>\n",
       "      <td>C2</td>\n",
       "      <td>G5200</td>\n",
       "      <td>Congressional District 7</td>\n",
       "      <td>01</td>\n",
       "      <td>POLYGON ((-88.47322699999999 31.893856, -88.47...</td>\n",
       "    </tr>\n",
       "  </tbody>\n",
       "</table>\n",
       "</div>"
      ],
      "text/plain": [
       "           ALAND     AWATER CD113FP CDSESSN FUNCSTAT GEOID     INTPTLAT  \\\n",
       "172  26304372148  330254983      07     113        N  0107  +32.4492349   \n",
       "\n",
       "         INTPTLON LSAD  MTFCC                  NAMELSAD STATEFP  \\\n",
       "172  -087.6405014   C2  G5200  Congressional District 7      01   \n",
       "\n",
       "                                              geometry  \n",
       "172  POLYGON ((-88.47322699999999 31.893856, -88.47...  "
      ]
     },
     "execution_count": 293,
     "metadata": {},
     "output_type": "execute_result"
    }
   ],
   "source": [
    "cds_113_shp.sort_values(by='STATEFP').head(1)"
   ]
  },
  {
   "cell_type": "code",
   "execution_count": 295,
   "metadata": {
    "collapsed": false
   },
   "outputs": [
    {
     "data": {
      "text/plain": [
       "geopandas.geoseries.GeoSeries"
      ]
     },
     "execution_count": 295,
     "metadata": {},
     "output_type": "execute_result"
    }
   ],
   "source": [
    "cds_orig_shape = cds_113_shp.copy()\n",
    "type(cds_orig_shape.geometry)"
   ]
  },
  {
   "cell_type": "code",
   "execution_count": 296,
   "metadata": {
    "collapsed": false
   },
   "outputs": [
    {
     "data": {
      "text/html": [
       "<div>\n",
       "<table border=\"1\" class=\"dataframe\">\n",
       "  <thead>\n",
       "    <tr style=\"text-align: right;\">\n",
       "      <th></th>\n",
       "      <th>ALAND</th>\n",
       "      <th>AWATER</th>\n",
       "      <th>CD113FP</th>\n",
       "      <th>CDSESSN</th>\n",
       "      <th>FUNCSTAT</th>\n",
       "      <th>GEOID</th>\n",
       "      <th>INTPTLAT</th>\n",
       "      <th>INTPTLON</th>\n",
       "      <th>LSAD</th>\n",
       "      <th>MTFCC</th>\n",
       "      <th>NAMELSAD</th>\n",
       "      <th>STATEFP</th>\n",
       "      <th>geometry</th>\n",
       "      <th>STATE</th>\n",
       "    </tr>\n",
       "  </thead>\n",
       "  <tbody>\n",
       "    <tr>\n",
       "      <th>0</th>\n",
       "      <td>14227693111</td>\n",
       "      <td>414257512</td>\n",
       "      <td>01</td>\n",
       "      <td>113</td>\n",
       "      <td>N</td>\n",
       "      <td>3701</td>\n",
       "      <td>+36.1119104</td>\n",
       "      <td>-077.5009008</td>\n",
       "      <td>C2</td>\n",
       "      <td>G5200</td>\n",
       "      <td>Congressional District 1</td>\n",
       "      <td>37</td>\n",
       "      <td>POLYGON ((-78.95837499999999 36.001372, -78.95...</td>\n",
       "      <td>NC</td>\n",
       "    </tr>\n",
       "  </tbody>\n",
       "</table>\n",
       "</div>"
      ],
      "text/plain": [
       "         ALAND     AWATER CD113FP CDSESSN FUNCSTAT GEOID     INTPTLAT  \\\n",
       "0  14227693111  414257512      01     113        N  3701  +36.1119104   \n",
       "\n",
       "       INTPTLON LSAD  MTFCC                  NAMELSAD STATEFP  \\\n",
       "0  -077.5009008   C2  G5200  Congressional District 1      37   \n",
       "\n",
       "                                            geometry STATE  \n",
       "0  POLYGON ((-78.95837499999999 36.001372, -78.95...    NC  "
      ]
     },
     "execution_count": 296,
     "metadata": {},
     "output_type": "execute_result"
    }
   ],
   "source": [
    "#map state codes to state abbreviations \n",
    "cds_113_shp = pd.merge(cds_113_shp, st_codes, on = 'STATEFP', how = 'left')\n",
    "cds_113_shp.head(1)"
   ]
  },
  {
   "cell_type": "code",
   "execution_count": 297,
   "metadata": {
    "collapsed": false
   },
   "outputs": [
    {
     "data": {
      "text/plain": [
       "444"
      ]
     },
     "execution_count": 297,
     "metadata": {},
     "output_type": "execute_result"
    }
   ],
   "source": [
    "len(cds_113_shp)"
   ]
  },
  {
   "cell_type": "code",
   "execution_count": 298,
   "metadata": {
    "collapsed": false
   },
   "outputs": [
    {
     "data": {
      "text/plain": [
       "pandas.core.series.Series"
      ]
     },
     "execution_count": 298,
     "metadata": {},
     "output_type": "execute_result"
    }
   ],
   "source": [
    "type(cds_113_shp.geometry)"
   ]
  },
  {
   "cell_type": "code",
   "execution_count": 299,
   "metadata": {
    "collapsed": false
   },
   "outputs": [
    {
     "data": {
      "text/html": [
       "<div>\n",
       "<table border=\"1\" class=\"dataframe\">\n",
       "  <thead>\n",
       "    <tr style=\"text-align: right;\">\n",
       "      <th></th>\n",
       "      <th>ALAND</th>\n",
       "      <th>AWATER</th>\n",
       "      <th>CD113FP</th>\n",
       "      <th>CDSESSN</th>\n",
       "      <th>FUNCSTAT</th>\n",
       "      <th>GEOID</th>\n",
       "      <th>INTPTLAT</th>\n",
       "      <th>INTPTLON</th>\n",
       "      <th>LSAD</th>\n",
       "      <th>MTFCC</th>\n",
       "      <th>NAMELSAD</th>\n",
       "      <th>STATEFP</th>\n",
       "      <th>geometry</th>\n",
       "      <th>STATE</th>\n",
       "    </tr>\n",
       "  </thead>\n",
       "  <tbody>\n",
       "    <tr>\n",
       "      <th>379</th>\n",
       "      <td>543389293</td>\n",
       "      <td>934520040</td>\n",
       "      <td>98</td>\n",
       "      <td>113</td>\n",
       "      <td>N</td>\n",
       "      <td>6698</td>\n",
       "      <td>+13.4382959</td>\n",
       "      <td>+144.7729279</td>\n",
       "      <td>C4</td>\n",
       "      <td>G5200</td>\n",
       "      <td>Delegate District (at Large)</td>\n",
       "      <td>66</td>\n",
       "      <td>POLYGON ((144.563426 13.448065, 144.563574 13....</td>\n",
       "      <td>GU</td>\n",
       "    </tr>\n",
       "  </tbody>\n",
       "</table>\n",
       "</div>"
      ],
      "text/plain": [
       "         ALAND     AWATER CD113FP CDSESSN FUNCSTAT GEOID     INTPTLAT  \\\n",
       "379  543389293  934520040      98     113        N  6698  +13.4382959   \n",
       "\n",
       "         INTPTLON LSAD  MTFCC                      NAMELSAD STATEFP  \\\n",
       "379  +144.7729279   C4  G5200  Delegate District (at Large)      66   \n",
       "\n",
       "                                              geometry STATE  \n",
       "379  POLYGON ((144.563426 13.448065, 144.563574 13....    GU  "
      ]
     },
     "execution_count": 299,
     "metadata": {},
     "output_type": "execute_result"
    }
   ],
   "source": [
    "#check how at-large districts are handled. \n",
    "cds_113_shp[cds_113_shp['STATEFP'] == '66']"
   ]
  },
  {
   "cell_type": "code",
   "execution_count": 300,
   "metadata": {
    "collapsed": false
   },
   "outputs": [],
   "source": [
    "#Align cd naming convention with other files. \n",
    "#strip text\n",
    "cds_113_shp['NAMELSAD'] = cds_113_shp['NAMELSAD'].str.strip(\"Congressional District \")"
   ]
  },
  {
   "cell_type": "code",
   "execution_count": 302,
   "metadata": {
    "collapsed": false
   },
   "outputs": [
    {
     "data": {
      "text/plain": [
       "93     MP\n",
       "112    WY\n",
       "123    VT\n",
       "134    PR\n",
       "136    AS\n",
       "138    AK\n",
       "173    VI\n",
       "199    CT\n",
       "207    ND\n",
       "213    DC\n",
       "237    DE\n",
       "269    MT\n",
       "283    SD\n",
       "294    IL\n",
       "337    MI\n",
       "379    GU\n",
       "Name: STATE, dtype: object"
      ]
     },
     "execution_count": 302,
     "metadata": {},
     "output_type": "execute_result"
    }
   ],
   "source": [
    "#rename at-large states 'AL'\n",
    "at_large = cds_113_shp[~cds_113_shp['NAMELSAD'].str.isdigit()]\n",
    "at_large_states = at_large['STATE']\n",
    "at_large_states"
   ]
  },
  {
   "cell_type": "code",
   "execution_count": 303,
   "metadata": {
    "collapsed": false
   },
   "outputs": [],
   "source": [
    "#convert district label in at-large states to 'AL' \n",
    "at_large= at_large.index\n",
    "cds_113_shp.loc[at_large,'NAMELSAD'] = 'AL'"
   ]
  },
  {
   "cell_type": "code",
   "execution_count": 304,
   "metadata": {
    "collapsed": false
   },
   "outputs": [],
   "source": [
    "#convert district numbers to 2-digit format\n",
    "digits = cds_113_shp[cds_113_shp['NAMELSAD'].str.isdigit()]\n",
    "digits = digits.index\n",
    "cds_113_shp.loc[digits,'NAMELSAD'] = cds_113_shp.loc[digits,'NAMELSAD'].astype(int).map(\"{:02}\".format)"
   ]
  },
  {
   "cell_type": "code",
   "execution_count": 306,
   "metadata": {
    "collapsed": false
   },
   "outputs": [
    {
     "data": {
      "text/html": [
       "<div>\n",
       "<table border=\"1\" class=\"dataframe\">\n",
       "  <thead>\n",
       "    <tr style=\"text-align: right;\">\n",
       "      <th></th>\n",
       "      <th>ALAND</th>\n",
       "      <th>AWATER</th>\n",
       "      <th>CD113FP</th>\n",
       "      <th>CDSESSN</th>\n",
       "      <th>FUNCSTAT</th>\n",
       "      <th>GEOID</th>\n",
       "      <th>INTPTLAT</th>\n",
       "      <th>INTPTLON</th>\n",
       "      <th>LSAD</th>\n",
       "      <th>MTFCC</th>\n",
       "      <th>NAMELSAD</th>\n",
       "      <th>STATEFP</th>\n",
       "      <th>geometry</th>\n",
       "      <th>STATE</th>\n",
       "      <th>cd_id</th>\n",
       "    </tr>\n",
       "  </thead>\n",
       "  <tbody>\n",
       "    <tr>\n",
       "      <th>0</th>\n",
       "      <td>14227693111</td>\n",
       "      <td>414257512</td>\n",
       "      <td>01</td>\n",
       "      <td>113</td>\n",
       "      <td>N</td>\n",
       "      <td>3701</td>\n",
       "      <td>+36.1119104</td>\n",
       "      <td>-077.5009008</td>\n",
       "      <td>C2</td>\n",
       "      <td>G5200</td>\n",
       "      <td>01</td>\n",
       "      <td>37</td>\n",
       "      <td>POLYGON ((-78.95837499999999 36.001372, -78.95...</td>\n",
       "      <td>NC</td>\n",
       "      <td>NC-01</td>\n",
       "    </tr>\n",
       "    <tr>\n",
       "      <th>1</th>\n",
       "      <td>20229273757</td>\n",
       "      <td>10851171398</td>\n",
       "      <td>03</td>\n",
       "      <td>113</td>\n",
       "      <td>N</td>\n",
       "      <td>3703</td>\n",
       "      <td>+35.4057865</td>\n",
       "      <td>-076.6296737</td>\n",
       "      <td>C2</td>\n",
       "      <td>G5200</td>\n",
       "      <td>03</td>\n",
       "      <td>37</td>\n",
       "      <td>POLYGON ((-78.27217399999999 34.538072, -78.27...</td>\n",
       "      <td>NC</td>\n",
       "      <td>NC-03</td>\n",
       "    </tr>\n",
       "    <tr>\n",
       "      <th>2</th>\n",
       "      <td>1730858364</td>\n",
       "      <td>86473790</td>\n",
       "      <td>04</td>\n",
       "      <td>113</td>\n",
       "      <td>N</td>\n",
       "      <td>2504</td>\n",
       "      <td>+41.9971989</td>\n",
       "      <td>-071.2275271</td>\n",
       "      <td>C2</td>\n",
       "      <td>G5200</td>\n",
       "      <td>04</td>\n",
       "      <td>25</td>\n",
       "      <td>POLYGON ((-71.60164399999999 42.219664, -71.59...</td>\n",
       "      <td>MA</td>\n",
       "      <td>MA-04</td>\n",
       "    </tr>\n",
       "  </tbody>\n",
       "</table>\n",
       "</div>"
      ],
      "text/plain": [
       "         ALAND       AWATER CD113FP CDSESSN FUNCSTAT GEOID     INTPTLAT  \\\n",
       "0  14227693111    414257512      01     113        N  3701  +36.1119104   \n",
       "1  20229273757  10851171398      03     113        N  3703  +35.4057865   \n",
       "2   1730858364     86473790      04     113        N  2504  +41.9971989   \n",
       "\n",
       "       INTPTLON LSAD  MTFCC NAMELSAD STATEFP  \\\n",
       "0  -077.5009008   C2  G5200       01      37   \n",
       "1  -076.6296737   C2  G5200       03      37   \n",
       "2  -071.2275271   C2  G5200       04      25   \n",
       "\n",
       "                                            geometry STATE  cd_id  \n",
       "0  POLYGON ((-78.95837499999999 36.001372, -78.95...    NC  NC-01  \n",
       "1  POLYGON ((-78.27217399999999 34.538072, -78.27...    NC  NC-03  \n",
       "2  POLYGON ((-71.60164399999999 42.219664, -71.59...    MA  MA-04  "
      ]
     },
     "execution_count": 306,
     "metadata": {},
     "output_type": "execute_result"
    }
   ],
   "source": [
    "#concat STATE and district number (NAMELSAD) to create district ID \n",
    "cds_113_shp['cd_id'] = cds_113_shp.STATE.str.cat(cds_113_shp.NAMELSAD, sep='-')\n",
    "cds_113_shp.head(3)"
   ]
  },
  {
   "cell_type": "code",
   "execution_count": 307,
   "metadata": {
    "collapsed": false
   },
   "outputs": [
    {
     "data": {
      "text/plain": [
       "444"
      ]
     },
     "execution_count": 307,
     "metadata": {},
     "output_type": "execute_result"
    }
   ],
   "source": [
    "cds_shp = cds_113_shp.copy()\n",
    "len(cds_shp)"
   ]
  },
  {
   "cell_type": "markdown",
   "metadata": {},
   "source": [
    "## Check for miscoded or missing values in cd_id between datasets "
   ]
  },
  {
   "cell_type": "code",
   "execution_count": 308,
   "metadata": {
    "collapsed": false
   },
   "outputs": [],
   "source": [
    "#check that there are no values in Koos data not in cds_shp\n",
    "s1 = dist_party['cd_id']\n",
    "s2 = cds_shp['cd_id']\n",
    "\n",
    "check = s1[~s1.isin(s2)]"
   ]
  },
  {
   "cell_type": "code",
   "execution_count": 309,
   "metadata": {
    "collapsed": false
   },
   "outputs": [
    {
     "data": {
      "text/plain": [
       "0"
      ]
     },
     "execution_count": 309,
     "metadata": {},
     "output_type": "execute_result"
    }
   ],
   "source": [
    "len(check)"
   ]
  },
  {
   "cell_type": "code",
   "execution_count": 310,
   "metadata": {
    "collapsed": false
   },
   "outputs": [],
   "source": [
    "#check that there are no values in trump_districts data not in cds_shp\n",
    "s1 = trump_districts['cd_id']\n",
    "s2 = cds_shp['cd_id']\n",
    "\n",
    "check = s1[~s1.isin(s2)]"
   ]
  },
  {
   "cell_type": "code",
   "execution_count": 311,
   "metadata": {
    "collapsed": false
   },
   "outputs": [
    {
     "data": {
      "text/plain": [
       "0"
      ]
     },
     "execution_count": 311,
     "metadata": {},
     "output_type": "execute_result"
    }
   ],
   "source": [
    "len(check)"
   ]
  },
  {
   "cell_type": "code",
   "execution_count": 312,
   "metadata": {
    "collapsed": false
   },
   "outputs": [
    {
     "data": {
      "text/plain": [
       "Series([], Name: cd_id, dtype: object)"
      ]
     },
     "execution_count": 312,
     "metadata": {},
     "output_type": "execute_result"
    }
   ],
   "source": [
    "#initial pass showed 9 at-large districts coded differently\n",
    "check"
   ]
  },
  {
   "cell_type": "code",
   "execution_count": 313,
   "metadata": {
    "collapsed": false
   },
   "outputs": [
    {
     "data": {
      "text/plain": [
       "Int64Index([], dtype='int64')"
      ]
     },
     "execution_count": 313,
     "metadata": {},
     "output_type": "execute_result"
    }
   ],
   "source": [
    "#use index values from check to recode at large districts in trump_districts above. \n",
    "al = check.index\n",
    "al"
   ]
  },
  {
   "cell_type": "code",
   "execution_count": 314,
   "metadata": {
    "collapsed": false
   },
   "outputs": [],
   "source": [
    "s1 = trump_districts['cd_id']\n",
    "s2 = dist_party['cd_id']\n",
    "\n",
    "check = s1[~s1.isin(s2)]"
   ]
  },
  {
   "cell_type": "code",
   "execution_count": 315,
   "metadata": {
    "collapsed": false
   },
   "outputs": [
    {
     "data": {
      "text/plain": [
       "61     VI-AL\n",
       "208    DC-AL\n",
       "Name: cd_id, dtype: object"
      ]
     },
     "execution_count": 315,
     "metadata": {},
     "output_type": "execute_result"
    }
   ],
   "source": [
    "check\n",
    "#two at large districts in trump data and not in dist_party data. \n",
    "#DC = democratic \n",
    "#VI = democratic "
   ]
  },
  {
   "cell_type": "code",
   "execution_count": 316,
   "metadata": {
    "collapsed": false
   },
   "outputs": [
    {
     "data": {
      "text/plain": [
       "count       435\n",
       "unique      435\n",
       "top       MA-09\n",
       "freq          1\n",
       "Name: cd_id, dtype: object"
      ]
     },
     "execution_count": 316,
     "metadata": {},
     "output_type": "execute_result"
    }
   ],
   "source": [
    "dist_party.cd_id.describe()"
   ]
  },
  {
   "cell_type": "code",
   "execution_count": 317,
   "metadata": {
    "collapsed": false
   },
   "outputs": [
    {
     "data": {
      "text/plain": [
       "count       436\n",
       "unique      436\n",
       "top       MA-09\n",
       "freq          1\n",
       "Name: cd_id, dtype: object"
      ]
     },
     "execution_count": 317,
     "metadata": {},
     "output_type": "execute_result"
    }
   ],
   "source": [
    "trump_districts.cd_id.describe()"
   ]
  },
  {
   "cell_type": "code",
   "execution_count": 318,
   "metadata": {
    "collapsed": false
   },
   "outputs": [
    {
     "name": "stdout",
     "output_type": "stream",
     "text": [
      "Empty DataFrame\n",
      "Columns: [cd_id, party]\n",
      "Index: []\n",
      "Empty DataFrame\n",
      "Columns: [cd_id, party]\n",
      "Index: []\n"
     ]
    }
   ],
   "source": [
    "#check that there isn't type or other error\n",
    "check1 = dist_party[dist_party['cd_id'].str.contains('VI') == True]\n",
    "check2 = dist_party[dist_party['cd_id'].str.contains('DC') == True]\n",
    "print (check1)\n",
    "print (check2)"
   ]
  },
  {
   "cell_type": "code",
   "execution_count": 319,
   "metadata": {
    "collapsed": true
   },
   "outputs": [],
   "source": [
    "s1 = dist_party['cd_id']\n",
    "s2 = trump_districts['cd_id']\n",
    "\n",
    "check = s1[~s1.isin(s2)]"
   ]
  },
  {
   "cell_type": "code",
   "execution_count": 320,
   "metadata": {
    "collapsed": false
   },
   "outputs": [
    {
     "data": {
      "text/plain": [
       "285    NY-15\n",
       "Name: cd_id, dtype: object"
      ]
     },
     "execution_count": 320,
     "metadata": {},
     "output_type": "execute_result"
    }
   ],
   "source": [
    "# only 1 disrict is not in the trump dataset, likely because he didn't receive a donation from this district\n",
    "check"
   ]
  },
  {
   "cell_type": "code",
   "execution_count": 321,
   "metadata": {
    "collapsed": false
   },
   "outputs": [
    {
     "data": {
      "text/html": [
       "<div>\n",
       "<table border=\"1\" class=\"dataframe\">\n",
       "  <thead>\n",
       "    <tr style=\"text-align: right;\">\n",
       "      <th></th>\n",
       "      <th>cd_id</th>\n",
       "      <th>party</th>\n",
       "    </tr>\n",
       "  </thead>\n",
       "  <tbody>\n",
       "    <tr>\n",
       "      <th>0</th>\n",
       "      <td>VI-AL</td>\n",
       "      <td>(D)</td>\n",
       "    </tr>\n",
       "    <tr>\n",
       "      <th>1</th>\n",
       "      <td>DC-AL</td>\n",
       "      <td>(D)</td>\n",
       "    </tr>\n",
       "  </tbody>\n",
       "</table>\n",
       "</div>"
      ],
      "text/plain": [
       "   cd_id party\n",
       "0  VI-AL   (D)\n",
       "1  DC-AL   (D)"
      ]
     },
     "execution_count": 321,
     "metadata": {},
     "output_type": "execute_result"
    }
   ],
   "source": [
    "new_rows = pd.DataFrame(data = {'cd_id':['VI-AL','DC-AL'], 'party':['(D)', '(D)']})\n",
    "new_rows"
   ]
  },
  {
   "cell_type": "code",
   "execution_count": 322,
   "metadata": {
    "collapsed": false
   },
   "outputs": [],
   "source": [
    "dist_party = dist_party.append(new_rows)"
   ]
  },
  {
   "cell_type": "code",
   "execution_count": 323,
   "metadata": {
    "collapsed": false
   },
   "outputs": [
    {
     "data": {
      "text/html": [
       "<div>\n",
       "<table border=\"1\" class=\"dataframe\">\n",
       "  <thead>\n",
       "    <tr style=\"text-align: right;\">\n",
       "      <th></th>\n",
       "      <th>cd_id</th>\n",
       "      <th>party</th>\n",
       "    </tr>\n",
       "  </thead>\n",
       "  <tbody>\n",
       "    <tr>\n",
       "      <th>count</th>\n",
       "      <td>437</td>\n",
       "      <td>437</td>\n",
       "    </tr>\n",
       "    <tr>\n",
       "      <th>unique</th>\n",
       "      <td>437</td>\n",
       "      <td>2</td>\n",
       "    </tr>\n",
       "    <tr>\n",
       "      <th>top</th>\n",
       "      <td>MA-09</td>\n",
       "      <td>(R)</td>\n",
       "    </tr>\n",
       "    <tr>\n",
       "      <th>freq</th>\n",
       "      <td>1</td>\n",
       "      <td>224</td>\n",
       "    </tr>\n",
       "  </tbody>\n",
       "</table>\n",
       "</div>"
      ],
      "text/plain": [
       "        cd_id party\n",
       "count     437   437\n",
       "unique    437     2\n",
       "top     MA-09   (R)\n",
       "freq        1   224"
      ]
     },
     "execution_count": 323,
     "metadata": {},
     "output_type": "execute_result"
    }
   ],
   "source": [
    "dist_party.describe()"
   ]
  },
  {
   "cell_type": "code",
   "execution_count": 324,
   "metadata": {
    "collapsed": false
   },
   "outputs": [
    {
     "data": {
      "text/plain": [
       "party\n",
       "(D)    213\n",
       "(R)    224\n",
       "dtype: int64"
      ]
     },
     "execution_count": 324,
     "metadata": {},
     "output_type": "execute_result"
    }
   ],
   "source": [
    "dist_table = dist_party.groupby('party').size()\n",
    "dist_table"
   ]
  },
  {
   "cell_type": "markdown",
   "metadata": {},
   "source": [
    "## Add party affiliation to shape file"
   ]
  },
  {
   "cell_type": "code",
   "execution_count": 325,
   "metadata": {
    "collapsed": false
   },
   "outputs": [
    {
     "data": {
      "text/html": [
       "<div>\n",
       "<table border=\"1\" class=\"dataframe\">\n",
       "  <thead>\n",
       "    <tr style=\"text-align: right;\">\n",
       "      <th></th>\n",
       "      <th>ALAND</th>\n",
       "      <th>AWATER</th>\n",
       "      <th>CD113FP</th>\n",
       "      <th>CDSESSN</th>\n",
       "      <th>FUNCSTAT</th>\n",
       "      <th>GEOID</th>\n",
       "      <th>INTPTLAT</th>\n",
       "      <th>INTPTLON</th>\n",
       "      <th>LSAD</th>\n",
       "      <th>MTFCC</th>\n",
       "      <th>NAMELSAD</th>\n",
       "      <th>STATEFP</th>\n",
       "      <th>geometry</th>\n",
       "      <th>STATE</th>\n",
       "      <th>cd_id</th>\n",
       "      <th>party</th>\n",
       "    </tr>\n",
       "  </thead>\n",
       "  <tbody>\n",
       "    <tr>\n",
       "      <th>0</th>\n",
       "      <td>14227693111</td>\n",
       "      <td>414257512</td>\n",
       "      <td>01</td>\n",
       "      <td>113</td>\n",
       "      <td>N</td>\n",
       "      <td>3701</td>\n",
       "      <td>+36.1119104</td>\n",
       "      <td>-077.5009008</td>\n",
       "      <td>C2</td>\n",
       "      <td>G5200</td>\n",
       "      <td>01</td>\n",
       "      <td>37</td>\n",
       "      <td>POLYGON ((-78.95837499999999 36.001372, -78.95...</td>\n",
       "      <td>NC</td>\n",
       "      <td>NC-01</td>\n",
       "      <td>(D)</td>\n",
       "    </tr>\n",
       "    <tr>\n",
       "      <th>1</th>\n",
       "      <td>20229273757</td>\n",
       "      <td>10851171398</td>\n",
       "      <td>03</td>\n",
       "      <td>113</td>\n",
       "      <td>N</td>\n",
       "      <td>3703</td>\n",
       "      <td>+35.4057865</td>\n",
       "      <td>-076.6296737</td>\n",
       "      <td>C2</td>\n",
       "      <td>G5200</td>\n",
       "      <td>03</td>\n",
       "      <td>37</td>\n",
       "      <td>POLYGON ((-78.27217399999999 34.538072, -78.27...</td>\n",
       "      <td>NC</td>\n",
       "      <td>NC-03</td>\n",
       "      <td>(R)</td>\n",
       "    </tr>\n",
       "  </tbody>\n",
       "</table>\n",
       "</div>"
      ],
      "text/plain": [
       "         ALAND       AWATER CD113FP CDSESSN FUNCSTAT GEOID     INTPTLAT  \\\n",
       "0  14227693111    414257512      01     113        N  3701  +36.1119104   \n",
       "1  20229273757  10851171398      03     113        N  3703  +35.4057865   \n",
       "\n",
       "       INTPTLON LSAD  MTFCC NAMELSAD STATEFP  \\\n",
       "0  -077.5009008   C2  G5200       01      37   \n",
       "1  -076.6296737   C2  G5200       03      37   \n",
       "\n",
       "                                            geometry STATE  cd_id party  \n",
       "0  POLYGON ((-78.95837499999999 36.001372, -78.95...    NC  NC-01   (D)  \n",
       "1  POLYGON ((-78.27217399999999 34.538072, -78.27...    NC  NC-03   (R)  "
      ]
     },
     "execution_count": 325,
     "metadata": {},
     "output_type": "execute_result"
    }
   ],
   "source": [
    "# merge party affiliation with shape file, with an 'inner' merge, \n",
    "#thereby removing extraneous large districts from shape file\n",
    "\n",
    "cds_shp2 = pd.merge(cds_shp, dist_party, on = 'cd_id', how = 'inner')\n",
    "cds_shp2.head(2)"
   ]
  },
  {
   "cell_type": "code",
   "execution_count": 327,
   "metadata": {
    "collapsed": false
   },
   "outputs": [
    {
     "data": {
      "text/plain": [
       "pandas.core.series.Series"
      ]
     },
     "execution_count": 327,
     "metadata": {},
     "output_type": "execute_result"
    }
   ],
   "source": [
    "type(cds_shp2.geometry)"
   ]
  },
  {
   "cell_type": "code",
   "execution_count": 330,
   "metadata": {
    "collapsed": false
   },
   "outputs": [],
   "source": [
    "#remake GeoSeries\n",
    "crs = None\n",
    "geometry = cds_shp2['geometry']\n",
    "cds_shp2 = gpd.GeoDataFrame(cds_shp2, crs=crs, geometry=geometry)"
   ]
  },
  {
   "cell_type": "code",
   "execution_count": 331,
   "metadata": {
    "collapsed": false
   },
   "outputs": [
    {
     "data": {
      "text/plain": [
       "geopandas.geoseries.GeoSeries"
      ]
     },
     "execution_count": 331,
     "metadata": {},
     "output_type": "execute_result"
    }
   ],
   "source": [
    "type(cds_shp2.geometry)"
   ]
  },
  {
   "cell_type": "code",
   "execution_count": 334,
   "metadata": {
    "collapsed": true
   },
   "outputs": [],
   "source": [
    "#cds_shp2.to_file('cds_113c_byparty2.shp', driver=\"ESRI Shapefile\")"
   ]
  },
  {
   "cell_type": "markdown",
   "metadata": {},
   "source": [
    "## Add geom centroids to Trump contributions data "
   ]
  },
  {
   "cell_type": "code",
   "execution_count": 335,
   "metadata": {
    "collapsed": false
   },
   "outputs": [
    {
     "data": {
      "text/plain": [
       "0    POINT (-77.51369409502156 36.09876447243866)\n",
       "1    POINT (-76.61938684826103 35.41056159586817)\n",
       "2    POINT (-71.23234410807179 41.99125362437578)\n",
       "dtype: object"
      ]
     },
     "execution_count": 335,
     "metadata": {},
     "output_type": "execute_result"
    }
   ],
   "source": [
    "district_centroids = cds_shp2.centroid\n",
    "district_centroids.head(3)"
   ]
  },
  {
   "cell_type": "code",
   "execution_count": 336,
   "metadata": {
    "collapsed": false
   },
   "outputs": [
    {
     "data": {
      "text/plain": [
       "geopandas.geoseries.GeoSeries"
      ]
     },
     "execution_count": 336,
     "metadata": {},
     "output_type": "execute_result"
    }
   ],
   "source": [
    "type(district_centroids)"
   ]
  },
  {
   "cell_type": "code",
   "execution_count": 337,
   "metadata": {
    "collapsed": false
   },
   "outputs": [
    {
     "data": {
      "text/plain": [
       "437"
      ]
     },
     "execution_count": 337,
     "metadata": {},
     "output_type": "execute_result"
    }
   ],
   "source": [
    "len(district_centroids)"
   ]
  },
  {
   "cell_type": "code",
   "execution_count": 376,
   "metadata": {
    "collapsed": false
   },
   "outputs": [],
   "source": [
    "#add geom points to trump data\n",
    "trump_pts = pd.DataFrame({'cd_id': cds_shp2.cd_id, 'party': cds_shp2.party, 'geometry': district_centroids})"
   ]
  },
  {
   "cell_type": "code",
   "execution_count": 377,
   "metadata": {
    "collapsed": false
   },
   "outputs": [
    {
     "data": {
      "text/html": [
       "<div>\n",
       "<table border=\"1\" class=\"dataframe\">\n",
       "  <thead>\n",
       "    <tr style=\"text-align: right;\">\n",
       "      <th></th>\n",
       "      <th>cd_id</th>\n",
       "      <th>geometry</th>\n",
       "      <th>party</th>\n",
       "    </tr>\n",
       "  </thead>\n",
       "  <tbody>\n",
       "    <tr>\n",
       "      <th>0</th>\n",
       "      <td>NC-01</td>\n",
       "      <td>POINT (-77.51369409502156 36.09876447243866)</td>\n",
       "      <td>(D)</td>\n",
       "    </tr>\n",
       "    <tr>\n",
       "      <th>1</th>\n",
       "      <td>NC-03</td>\n",
       "      <td>POINT (-76.61938684826103 35.41056159586817)</td>\n",
       "      <td>(R)</td>\n",
       "    </tr>\n",
       "    <tr>\n",
       "      <th>2</th>\n",
       "      <td>MA-04</td>\n",
       "      <td>POINT (-71.23234410807179 41.99125362437578)</td>\n",
       "      <td>(D)</td>\n",
       "    </tr>\n",
       "  </tbody>\n",
       "</table>\n",
       "</div>"
      ],
      "text/plain": [
       "   cd_id                                      geometry party\n",
       "0  NC-01  POINT (-77.51369409502156 36.09876447243866)   (D)\n",
       "1  NC-03  POINT (-76.61938684826103 35.41056159586817)   (R)\n",
       "2  MA-04  POINT (-71.23234410807179 41.99125362437578)   (D)"
      ]
     },
     "execution_count": 377,
     "metadata": {},
     "output_type": "execute_result"
    }
   ],
   "source": [
    "trump_pts.head(3)"
   ]
  },
  {
   "cell_type": "code",
   "execution_count": 378,
   "metadata": {
    "collapsed": false
   },
   "outputs": [
    {
     "data": {
      "text/html": [
       "<div>\n",
       "<table border=\"1\" class=\"dataframe\">\n",
       "  <thead>\n",
       "    <tr style=\"text-align: right;\">\n",
       "      <th></th>\n",
       "      <th>cd_id</th>\n",
       "      <th>geometry</th>\n",
       "      <th>party</th>\n",
       "      <th>state</th>\n",
       "      <th>district</th>\n",
       "      <th>min_num</th>\n",
       "      <th>min_amt</th>\n",
       "      <th>split_num</th>\n",
       "      <th>split_amt</th>\n",
       "      <th>max_num</th>\n",
       "      <th>max_amt</th>\n",
       "    </tr>\n",
       "  </thead>\n",
       "  <tbody>\n",
       "    <tr>\n",
       "      <th>0</th>\n",
       "      <td>NC-01</td>\n",
       "      <td>POINT (-77.51369409502156 36.09876447243866)</td>\n",
       "      <td>(D)</td>\n",
       "      <td>NC</td>\n",
       "      <td>01</td>\n",
       "      <td>3</td>\n",
       "      <td>706</td>\n",
       "      <td>6</td>\n",
       "      <td>2331</td>\n",
       "      <td>9</td>\n",
       "      <td>3956</td>\n",
       "    </tr>\n",
       "    <tr>\n",
       "      <th>1</th>\n",
       "      <td>NC-03</td>\n",
       "      <td>POINT (-76.61938684826103 35.41056159586817)</td>\n",
       "      <td>(R)</td>\n",
       "      <td>NC</td>\n",
       "      <td>03</td>\n",
       "      <td>5</td>\n",
       "      <td>1515</td>\n",
       "      <td>6</td>\n",
       "      <td>2265</td>\n",
       "      <td>8</td>\n",
       "      <td>3015</td>\n",
       "    </tr>\n",
       "  </tbody>\n",
       "</table>\n",
       "</div>"
      ],
      "text/plain": [
       "   cd_id                                      geometry party state district  \\\n",
       "0  NC-01  POINT (-77.51369409502156 36.09876447243866)   (D)    NC       01   \n",
       "1  NC-03  POINT (-76.61938684826103 35.41056159586817)   (R)    NC       03   \n",
       "\n",
       "   min_num  min_amt  split_num  split_amt  max_num  max_amt  \n",
       "0        3      706          6       2331        9     3956  \n",
       "1        5     1515          6       2265        8     3015  "
      ]
     },
     "execution_count": 378,
     "metadata": {},
     "output_type": "execute_result"
    }
   ],
   "source": [
    "trump_pts = pd.merge(trump_pts, trump_districts, on = 'cd_id', how = 'inner')\n",
    "trump_pts.head(2)"
   ]
  },
  {
   "cell_type": "code",
   "execution_count": 379,
   "metadata": {
    "collapsed": false
   },
   "outputs": [
    {
     "data": {
      "text/plain": [
       "(436, 7)"
      ]
     },
     "execution_count": 379,
     "metadata": {},
     "output_type": "execute_result"
    }
   ],
   "source": [
    "trump_pts_split = trump_pts[['cd_id', 'geometry', 'party', 'state', 'district', 'split_num', 'split_amt']]\n",
    "trump_pts_split.shape"
   ]
  },
  {
   "cell_type": "code",
   "execution_count": 380,
   "metadata": {
    "collapsed": false
   },
   "outputs": [
    {
     "data": {
      "text/html": [
       "<div>\n",
       "<table border=\"1\" class=\"dataframe\">\n",
       "  <thead>\n",
       "    <tr style=\"text-align: right;\">\n",
       "      <th></th>\n",
       "      <th>cd_id</th>\n",
       "      <th>geometry</th>\n",
       "      <th>party</th>\n",
       "      <th>state</th>\n",
       "      <th>district</th>\n",
       "      <th>split_num</th>\n",
       "      <th>split_amt</th>\n",
       "    </tr>\n",
       "  </thead>\n",
       "  <tbody>\n",
       "    <tr>\n",
       "      <th>0</th>\n",
       "      <td>NC-01</td>\n",
       "      <td>POINT (-77.51369409502156 36.09876447243866)</td>\n",
       "      <td>(D)</td>\n",
       "      <td>NC</td>\n",
       "      <td>01</td>\n",
       "      <td>6</td>\n",
       "      <td>2331</td>\n",
       "    </tr>\n",
       "    <tr>\n",
       "      <th>1</th>\n",
       "      <td>NC-03</td>\n",
       "      <td>POINT (-76.61938684826103 35.41056159586817)</td>\n",
       "      <td>(R)</td>\n",
       "      <td>NC</td>\n",
       "      <td>03</td>\n",
       "      <td>6</td>\n",
       "      <td>2265</td>\n",
       "    </tr>\n",
       "  </tbody>\n",
       "</table>\n",
       "</div>"
      ],
      "text/plain": [
       "   cd_id                                      geometry party state district  \\\n",
       "0  NC-01  POINT (-77.51369409502156 36.09876447243866)   (D)    NC       01   \n",
       "1  NC-03  POINT (-76.61938684826103 35.41056159586817)   (R)    NC       03   \n",
       "\n",
       "   split_num  split_amt  \n",
       "0          6       2331  \n",
       "1          6       2265  "
      ]
     },
     "execution_count": 380,
     "metadata": {},
     "output_type": "execute_result"
    }
   ],
   "source": [
    "trump_pts_split.head(2)"
   ]
  },
  {
   "cell_type": "code",
   "execution_count": 383,
   "metadata": {
    "collapsed": false
   },
   "outputs": [
    {
     "data": {
      "text/html": [
       "<div>\n",
       "<table border=\"1\" class=\"dataframe\">\n",
       "  <thead>\n",
       "    <tr style=\"text-align: right;\">\n",
       "      <th></th>\n",
       "      <th>cd_id</th>\n",
       "      <th>geometry</th>\n",
       "      <th>party</th>\n",
       "      <th>state</th>\n",
       "      <th>district</th>\n",
       "      <th>split_num</th>\n",
       "      <th>split_amt</th>\n",
       "      <th>dollar_amt</th>\n",
       "    </tr>\n",
       "  </thead>\n",
       "  <tbody>\n",
       "    <tr>\n",
       "      <th>0</th>\n",
       "      <td>NC-01</td>\n",
       "      <td>POINT (-77.51369409502156 36.09876447243866)</td>\n",
       "      <td>(D)</td>\n",
       "      <td>NC</td>\n",
       "      <td>01</td>\n",
       "      <td>6</td>\n",
       "      <td>2331</td>\n",
       "      <td>$2,331</td>\n",
       "    </tr>\n",
       "    <tr>\n",
       "      <th>1</th>\n",
       "      <td>NC-03</td>\n",
       "      <td>POINT (-76.61938684826103 35.41056159586817)</td>\n",
       "      <td>(R)</td>\n",
       "      <td>NC</td>\n",
       "      <td>03</td>\n",
       "      <td>6</td>\n",
       "      <td>2265</td>\n",
       "      <td>$2,265</td>\n",
       "    </tr>\n",
       "  </tbody>\n",
       "</table>\n",
       "</div>"
      ],
      "text/plain": [
       "   cd_id                                      geometry party state district  \\\n",
       "0  NC-01  POINT (-77.51369409502156 36.09876447243866)   (D)    NC       01   \n",
       "1  NC-03  POINT (-76.61938684826103 35.41056159586817)   (R)    NC       03   \n",
       "\n",
       "   split_num  split_amt dollar_amt  \n",
       "0          6       2331     $2,331  \n",
       "1          6       2265     $2,265  "
      ]
     },
     "execution_count": 383,
     "metadata": {},
     "output_type": "execute_result"
    }
   ],
   "source": [
    "trump_pts_split.loc[:,'dollar_amt'] = trump_pts_split.loc[:,'split_amt'].astype(int).map('${:,}'.format)\n",
    "trump_pts_split.head(2)"
   ]
  },
  {
   "cell_type": "code",
   "execution_count": 388,
   "metadata": {
    "collapsed": false
   },
   "outputs": [
    {
     "name": "stderr",
     "output_type": "stream",
     "text": [
      "/Library/Python/2.7/site-packages/ipykernel/__main__.py:2: SettingWithCopyWarning: \n",
      "A value is trying to be set on a copy of a slice from a DataFrame.\n",
      "Try using .loc[row_indexer,col_indexer] = value instead\n",
      "\n",
      "See the caveats in the documentation: http://pandas.pydata.org/pandas-docs/stable/indexing.html#indexing-view-versus-copy\n",
      "  from ipykernel import kernelapp as app\n"
     ]
    },
    {
     "data": {
      "text/html": [
       "<div>\n",
       "<table border=\"1\" class=\"dataframe\">\n",
       "  <thead>\n",
       "    <tr style=\"text-align: right;\">\n",
       "      <th></th>\n",
       "      <th>cd_id</th>\n",
       "      <th>geometry</th>\n",
       "      <th>party</th>\n",
       "      <th>state</th>\n",
       "      <th>district</th>\n",
       "      <th>split_num</th>\n",
       "      <th>split_amt</th>\n",
       "      <th>dollar_amt</th>\n",
       "      <th>text</th>\n",
       "    </tr>\n",
       "  </thead>\n",
       "  <tbody>\n",
       "    <tr>\n",
       "      <th>0</th>\n",
       "      <td>NC-01</td>\n",
       "      <td>POINT (-77.51369409502156 36.09876447243866)</td>\n",
       "      <td>(D)</td>\n",
       "      <td>NC</td>\n",
       "      <td>01</td>\n",
       "      <td>6</td>\n",
       "      <td>2331.000000</td>\n",
       "      <td>$2,331</td>\n",
       "      <td>&lt;strong&gt;District:&lt;/strong&gt; NC-01&lt;br&gt;&lt;strong&gt;Nu...</td>\n",
       "    </tr>\n",
       "    <tr>\n",
       "      <th>1</th>\n",
       "      <td>NC-03</td>\n",
       "      <td>POINT (-76.61938684826103 35.41056159586817)</td>\n",
       "      <td>(R)</td>\n",
       "      <td>NC</td>\n",
       "      <td>03</td>\n",
       "      <td>6</td>\n",
       "      <td>2265.000000</td>\n",
       "      <td>$2,265</td>\n",
       "      <td>&lt;strong&gt;District:&lt;/strong&gt; NC-03&lt;br&gt;&lt;strong&gt;Nu...</td>\n",
       "    </tr>\n",
       "    <tr>\n",
       "      <th>2</th>\n",
       "      <td>MA-04</td>\n",
       "      <td>POINT (-71.23234410807179 41.99125362437578)</td>\n",
       "      <td>(D)</td>\n",
       "      <td>MA</td>\n",
       "      <td>04</td>\n",
       "      <td>28</td>\n",
       "      <td>14837.333330</td>\n",
       "      <td>$14,837</td>\n",
       "      <td>&lt;strong&gt;District:&lt;/strong&gt; MA-04&lt;br&gt;&lt;strong&gt;Nu...</td>\n",
       "    </tr>\n",
       "    <tr>\n",
       "      <th>3</th>\n",
       "      <td>MA-09</td>\n",
       "      <td>POINT (-70.48147673169255 41.69417780735502)</td>\n",
       "      <td>(D)</td>\n",
       "      <td>MA</td>\n",
       "      <td>09</td>\n",
       "      <td>13</td>\n",
       "      <td>5899.000000</td>\n",
       "      <td>$5,899</td>\n",
       "      <td>&lt;strong&gt;District:&lt;/strong&gt; MA-09&lt;br&gt;&lt;strong&gt;Nu...</td>\n",
       "    </tr>\n",
       "    <tr>\n",
       "      <th>4</th>\n",
       "      <td>MA-08</td>\n",
       "      <td>POINT (-70.94364106832272 42.19298731657016)</td>\n",
       "      <td>(D)</td>\n",
       "      <td>MA</td>\n",
       "      <td>08</td>\n",
       "      <td>15</td>\n",
       "      <td>175855.333300</td>\n",
       "      <td>$175,855</td>\n",
       "      <td>&lt;strong&gt;District:&lt;/strong&gt; MA-08&lt;br&gt;&lt;strong&gt;Nu...</td>\n",
       "    </tr>\n",
       "    <tr>\n",
       "      <th>5</th>\n",
       "      <td>VA-11</td>\n",
       "      <td>POINT (-77.294793779834 38.78810996655279)</td>\n",
       "      <td>(D)</td>\n",
       "      <td>VA</td>\n",
       "      <td>11</td>\n",
       "      <td>6</td>\n",
       "      <td>1978.166667</td>\n",
       "      <td>$1,978</td>\n",
       "      <td>&lt;strong&gt;District:&lt;/strong&gt; VA-11&lt;br&gt;&lt;strong&gt;Nu...</td>\n",
       "    </tr>\n",
       "    <tr>\n",
       "      <th>6</th>\n",
       "      <td>CO-04</td>\n",
       "      <td>POINT (-103.3752189589195 39.06218571170709)</td>\n",
       "      <td>(R)</td>\n",
       "      <td>CO</td>\n",
       "      <td>04</td>\n",
       "      <td>13</td>\n",
       "      <td>9345.333333</td>\n",
       "      <td>$9,345</td>\n",
       "      <td>&lt;strong&gt;District:&lt;/strong&gt; CO-04&lt;br&gt;&lt;strong&gt;Nu...</td>\n",
       "    </tr>\n",
       "    <tr>\n",
       "      <th>7</th>\n",
       "      <td>KY-06</td>\n",
       "      <td>POINT (-84.16266380335531 38.04833852400073)</td>\n",
       "      <td>(R)</td>\n",
       "      <td>KY</td>\n",
       "      <td>06</td>\n",
       "      <td>9</td>\n",
       "      <td>4482.000000</td>\n",
       "      <td>$4,482</td>\n",
       "      <td>&lt;strong&gt;District:&lt;/strong&gt; KY-06&lt;br&gt;&lt;strong&gt;Nu...</td>\n",
       "    </tr>\n",
       "    <tr>\n",
       "      <th>8</th>\n",
       "      <td>AL-06</td>\n",
       "      <td>POINT (-86.71298133896737 33.26337958140939)</td>\n",
       "      <td>(R)</td>\n",
       "      <td>AL</td>\n",
       "      <td>06</td>\n",
       "      <td>6</td>\n",
       "      <td>3165.333333</td>\n",
       "      <td>$3,165</td>\n",
       "      <td>&lt;strong&gt;District:&lt;/strong&gt; AL-06&lt;br&gt;&lt;strong&gt;Nu...</td>\n",
       "    </tr>\n",
       "    <tr>\n",
       "      <th>9</th>\n",
       "      <td>TX-04</td>\n",
       "      <td>POINT (-95.40442140966132 33.31037079071876)</td>\n",
       "      <td>(R)</td>\n",
       "      <td>TX</td>\n",
       "      <td>04</td>\n",
       "      <td>8</td>\n",
       "      <td>4895.000000</td>\n",
       "      <td>$4,895</td>\n",
       "      <td>&lt;strong&gt;District:&lt;/strong&gt; TX-04&lt;br&gt;&lt;strong&gt;Nu...</td>\n",
       "    </tr>\n",
       "    <tr>\n",
       "      <th>10</th>\n",
       "      <td>LA-05</td>\n",
       "      <td>POINT (-91.82491050101784 31.76774459369084)</td>\n",
       "      <td>(R)</td>\n",
       "      <td>LA</td>\n",
       "      <td>05</td>\n",
       "      <td>5</td>\n",
       "      <td>3732.833333</td>\n",
       "      <td>$3,732</td>\n",
       "      <td>&lt;strong&gt;District:&lt;/strong&gt; LA-05&lt;br&gt;&lt;strong&gt;Nu...</td>\n",
       "    </tr>\n",
       "    <tr>\n",
       "      <th>11</th>\n",
       "      <td>GA-02</td>\n",
       "      <td>POINT (-84.41145453868906 31.82104682706323)</td>\n",
       "      <td>(D)</td>\n",
       "      <td>GA</td>\n",
       "      <td>02</td>\n",
       "      <td>3</td>\n",
       "      <td>1037.000000</td>\n",
       "      <td>$1,037</td>\n",
       "      <td>&lt;strong&gt;District:&lt;/strong&gt; GA-02&lt;br&gt;&lt;strong&gt;Nu...</td>\n",
       "    </tr>\n",
       "    <tr>\n",
       "      <th>12</th>\n",
       "      <td>NJ-09</td>\n",
       "      <td>POINT (-74.07346349442811 40.86076224890873)</td>\n",
       "      <td>(D)</td>\n",
       "      <td>NJ</td>\n",
       "      <td>09</td>\n",
       "      <td>5</td>\n",
       "      <td>1290.500000</td>\n",
       "      <td>$1,290</td>\n",
       "      <td>&lt;strong&gt;District:&lt;/strong&gt; NJ-09&lt;br&gt;&lt;strong&gt;Nu...</td>\n",
       "    </tr>\n",
       "    <tr>\n",
       "      <th>13</th>\n",
       "      <td>NY-24</td>\n",
       "      <td>POINT (-76.6465857775198 43.20352703103627)</td>\n",
       "      <td>(D)</td>\n",
       "      <td>NY</td>\n",
       "      <td>24</td>\n",
       "      <td>5</td>\n",
       "      <td>2915.000000</td>\n",
       "      <td>$2,915</td>\n",
       "      <td>&lt;strong&gt;District:&lt;/strong&gt; NY-24&lt;br&gt;&lt;strong&gt;Nu...</td>\n",
       "    </tr>\n",
       "    <tr>\n",
       "      <th>14</th>\n",
       "      <td>OR-01</td>\n",
       "      <td>POINT (-123.338118611796 45.7223874183204)</td>\n",
       "      <td>(D)</td>\n",
       "      <td>OR</td>\n",
       "      <td>01</td>\n",
       "      <td>7</td>\n",
       "      <td>3780.500000</td>\n",
       "      <td>$3,780</td>\n",
       "      <td>&lt;strong&gt;District:&lt;/strong&gt; OR-01&lt;br&gt;&lt;strong&gt;Nu...</td>\n",
       "    </tr>\n",
       "    <tr>\n",
       "      <th>15</th>\n",
       "      <td>VA-09</td>\n",
       "      <td>POINT (-81.31963434846233 36.99227980007436)</td>\n",
       "      <td>(R)</td>\n",
       "      <td>VA</td>\n",
       "      <td>09</td>\n",
       "      <td>10</td>\n",
       "      <td>5358.000000</td>\n",
       "      <td>$5,358</td>\n",
       "      <td>&lt;strong&gt;District:&lt;/strong&gt; VA-09&lt;br&gt;&lt;strong&gt;Nu...</td>\n",
       "    </tr>\n",
       "    <tr>\n",
       "      <th>16</th>\n",
       "      <td>TN-04</td>\n",
       "      <td>POINT (-85.96003834440391 35.45048769605723)</td>\n",
       "      <td>(R)</td>\n",
       "      <td>TN</td>\n",
       "      <td>04</td>\n",
       "      <td>5</td>\n",
       "      <td>2725.000000</td>\n",
       "      <td>$2,725</td>\n",
       "      <td>&lt;strong&gt;District:&lt;/strong&gt; TN-04&lt;br&gt;&lt;strong&gt;Nu...</td>\n",
       "    </tr>\n",
       "    <tr>\n",
       "      <th>17</th>\n",
       "      <td>MI-10</td>\n",
       "      <td>POINT (-82.87094457655569 43.46253496954704)</td>\n",
       "      <td>(R)</td>\n",
       "      <td>MI</td>\n",
       "      <td>10</td>\n",
       "      <td>6</td>\n",
       "      <td>2260.333333</td>\n",
       "      <td>$2,260</td>\n",
       "      <td>&lt;strong&gt;District:&lt;/strong&gt; MI-10&lt;br&gt;&lt;strong&gt;Nu...</td>\n",
       "    </tr>\n",
       "    <tr>\n",
       "      <th>18</th>\n",
       "      <td>NV-04</td>\n",
       "      <td>POINT (-116.0006950422582 38.09112975923396)</td>\n",
       "      <td>(D)</td>\n",
       "      <td>NV</td>\n",
       "      <td>04</td>\n",
       "      <td>4</td>\n",
       "      <td>1646.000000</td>\n",
       "      <td>$1,646</td>\n",
       "      <td>&lt;strong&gt;District:&lt;/strong&gt; NV-04&lt;br&gt;&lt;strong&gt;Nu...</td>\n",
       "    </tr>\n",
       "    <tr>\n",
       "      <th>19</th>\n",
       "      <td>NV-02</td>\n",
       "      <td>POINT (-117.3060869521403 40.64568936839792)</td>\n",
       "      <td>(R)</td>\n",
       "      <td>NV</td>\n",
       "      <td>02</td>\n",
       "      <td>24</td>\n",
       "      <td>10007.000000</td>\n",
       "      <td>$10,007</td>\n",
       "      <td>&lt;strong&gt;District:&lt;/strong&gt; NV-02&lt;br&gt;&lt;strong&gt;Nu...</td>\n",
       "    </tr>\n",
       "    <tr>\n",
       "      <th>20</th>\n",
       "      <td>OH-01</td>\n",
       "      <td>POINT (-84.34554163697389 39.33650169588491)</td>\n",
       "      <td>(R)</td>\n",
       "      <td>OH</td>\n",
       "      <td>01</td>\n",
       "      <td>9</td>\n",
       "      <td>3726.166667</td>\n",
       "      <td>$3,726</td>\n",
       "      <td>&lt;strong&gt;District:&lt;/strong&gt; OH-01&lt;br&gt;&lt;strong&gt;Nu...</td>\n",
       "    </tr>\n",
       "    <tr>\n",
       "      <th>21</th>\n",
       "      <td>MN-03</td>\n",
       "      <td>POINT (-93.52957819486882 44.9964211399291)</td>\n",
       "      <td>(D)</td>\n",
       "      <td>MN</td>\n",
       "      <td>03</td>\n",
       "      <td>9</td>\n",
       "      <td>4019.000000</td>\n",
       "      <td>$4,019</td>\n",
       "      <td>&lt;strong&gt;District:&lt;/strong&gt; MN-03&lt;br&gt;&lt;strong&gt;Nu...</td>\n",
       "    </tr>\n",
       "    <tr>\n",
       "      <th>22</th>\n",
       "      <td>PA-06</td>\n",
       "      <td>POINT (-75.7996911640389 40.25247411890171)</td>\n",
       "      <td>(R)</td>\n",
       "      <td>PA</td>\n",
       "      <td>06</td>\n",
       "      <td>7</td>\n",
       "      <td>1852.333333</td>\n",
       "      <td>$1,852</td>\n",
       "      <td>&lt;strong&gt;District:&lt;/strong&gt; PA-06&lt;br&gt;&lt;strong&gt;Nu...</td>\n",
       "    </tr>\n",
       "    <tr>\n",
       "      <th>23</th>\n",
       "      <td>PA-16</td>\n",
       "      <td>POINT (-76.20557958193083 40.02480100200579)</td>\n",
       "      <td>(R)</td>\n",
       "      <td>PA</td>\n",
       "      <td>16</td>\n",
       "      <td>12</td>\n",
       "      <td>6035.666667</td>\n",
       "      <td>$6,035</td>\n",
       "      <td>&lt;strong&gt;District:&lt;/strong&gt; PA-16&lt;br&gt;&lt;strong&gt;Nu...</td>\n",
       "    </tr>\n",
       "    <tr>\n",
       "      <th>24</th>\n",
       "      <td>PA-15</td>\n",
       "      <td>POINT (-75.95222245587408 40.53032657791567)</td>\n",
       "      <td>(R)</td>\n",
       "      <td>PA</td>\n",
       "      <td>15</td>\n",
       "      <td>6</td>\n",
       "      <td>1632.500000</td>\n",
       "      <td>$1,632</td>\n",
       "      <td>&lt;strong&gt;District:&lt;/strong&gt; PA-15&lt;br&gt;&lt;strong&gt;Nu...</td>\n",
       "    </tr>\n",
       "    <tr>\n",
       "      <th>25</th>\n",
       "      <td>CA-16</td>\n",
       "      <td>POINT (-120.5309438211714 37.11154012276405)</td>\n",
       "      <td>(D)</td>\n",
       "      <td>CA</td>\n",
       "      <td>16</td>\n",
       "      <td>2</td>\n",
       "      <td>1004.000000</td>\n",
       "      <td>$1,004</td>\n",
       "      <td>&lt;strong&gt;District:&lt;/strong&gt; CA-16&lt;br&gt;&lt;strong&gt;Nu...</td>\n",
       "    </tr>\n",
       "    <tr>\n",
       "      <th>26</th>\n",
       "      <td>CA-21</td>\n",
       "      <td>POINT (-119.8512576732907 36.08176249154742)</td>\n",
       "      <td>(D)</td>\n",
       "      <td>CA</td>\n",
       "      <td>21</td>\n",
       "      <td>1</td>\n",
       "      <td>353.000000</td>\n",
       "      <td>$353</td>\n",
       "      <td>&lt;strong&gt;District:&lt;/strong&gt; CA-21&lt;br&gt;&lt;strong&gt;Nu...</td>\n",
       "    </tr>\n",
       "    <tr>\n",
       "      <th>27</th>\n",
       "      <td>CA-22</td>\n",
       "      <td>POINT (-119.3894473135757 36.48740828090241)</td>\n",
       "      <td>(R)</td>\n",
       "      <td>CA</td>\n",
       "      <td>22</td>\n",
       "      <td>5</td>\n",
       "      <td>1798.000000</td>\n",
       "      <td>$1,798</td>\n",
       "      <td>&lt;strong&gt;District:&lt;/strong&gt; CA-22&lt;br&gt;&lt;strong&gt;Nu...</td>\n",
       "    </tr>\n",
       "    <tr>\n",
       "      <th>28</th>\n",
       "      <td>CT-03</td>\n",
       "      <td>POINT (-72.8785336637586 41.38029814868609)</td>\n",
       "      <td>(D)</td>\n",
       "      <td>CT</td>\n",
       "      <td>03</td>\n",
       "      <td>6</td>\n",
       "      <td>1561.000000</td>\n",
       "      <td>$1,561</td>\n",
       "      <td>&lt;strong&gt;District:&lt;/strong&gt; CT-03&lt;br&gt;&lt;strong&gt;Nu...</td>\n",
       "    </tr>\n",
       "    <tr>\n",
       "      <th>29</th>\n",
       "      <td>CT-04</td>\n",
       "      <td>POINT (-73.3872548841247 41.1950473789115)</td>\n",
       "      <td>(D)</td>\n",
       "      <td>CT</td>\n",
       "      <td>04</td>\n",
       "      <td>10</td>\n",
       "      <td>7260.000000</td>\n",
       "      <td>$7,260</td>\n",
       "      <td>&lt;strong&gt;District:&lt;/strong&gt; CT-04&lt;br&gt;&lt;strong&gt;Nu...</td>\n",
       "    </tr>\n",
       "    <tr>\n",
       "      <th>...</th>\n",
       "      <td>...</td>\n",
       "      <td>...</td>\n",
       "      <td>...</td>\n",
       "      <td>...</td>\n",
       "      <td>...</td>\n",
       "      <td>...</td>\n",
       "      <td>...</td>\n",
       "      <td>...</td>\n",
       "      <td>...</td>\n",
       "    </tr>\n",
       "    <tr>\n",
       "      <th>406</th>\n",
       "      <td>CA-34</td>\n",
       "      <td>POINT (-118.2276640042644 34.0746773878558)</td>\n",
       "      <td>(D)</td>\n",
       "      <td>CA</td>\n",
       "      <td>34</td>\n",
       "      <td>4</td>\n",
       "      <td>1208.333333</td>\n",
       "      <td>$1,208</td>\n",
       "      <td>&lt;strong&gt;District:&lt;/strong&gt; CA-34&lt;br&gt;&lt;strong&gt;Nu...</td>\n",
       "    </tr>\n",
       "    <tr>\n",
       "      <th>407</th>\n",
       "      <td>CA-32</td>\n",
       "      <td>POINT (-117.9144736419669 34.08966504188117)</td>\n",
       "      <td>(D)</td>\n",
       "      <td>CA</td>\n",
       "      <td>32</td>\n",
       "      <td>1</td>\n",
       "      <td>708.333333</td>\n",
       "      <td>$708</td>\n",
       "      <td>&lt;strong&gt;District:&lt;/strong&gt; CA-32&lt;br&gt;&lt;strong&gt;Nu...</td>\n",
       "    </tr>\n",
       "    <tr>\n",
       "      <th>408</th>\n",
       "      <td>CA-43</td>\n",
       "      <td>POINT (-118.3352053478572 33.90363749659421)</td>\n",
       "      <td>(D)</td>\n",
       "      <td>CA</td>\n",
       "      <td>43</td>\n",
       "      <td>1</td>\n",
       "      <td>564.500000</td>\n",
       "      <td>$564</td>\n",
       "      <td>&lt;strong&gt;District:&lt;/strong&gt; CA-43&lt;br&gt;&lt;strong&gt;Nu...</td>\n",
       "    </tr>\n",
       "    <tr>\n",
       "      <th>409</th>\n",
       "      <td>CA-35</td>\n",
       "      <td>POINT (-117.5882239032858 34.04674027236695)</td>\n",
       "      <td>(D)</td>\n",
       "      <td>CA</td>\n",
       "      <td>35</td>\n",
       "      <td>5</td>\n",
       "      <td>1590.666667</td>\n",
       "      <td>$1,590</td>\n",
       "      <td>&lt;strong&gt;District:&lt;/strong&gt; CA-35&lt;br&gt;&lt;strong&gt;Nu...</td>\n",
       "    </tr>\n",
       "    <tr>\n",
       "      <th>410</th>\n",
       "      <td>CA-44</td>\n",
       "      <td>POINT (-118.2496170372503 33.81857729414089)</td>\n",
       "      <td>(D)</td>\n",
       "      <td>CA</td>\n",
       "      <td>44</td>\n",
       "      <td>6</td>\n",
       "      <td>4593.333333</td>\n",
       "      <td>$4,593</td>\n",
       "      <td>&lt;strong&gt;District:&lt;/strong&gt; CA-44&lt;br&gt;&lt;strong&gt;Nu...</td>\n",
       "    </tr>\n",
       "    <tr>\n",
       "      <th>411</th>\n",
       "      <td>CA-28</td>\n",
       "      <td>POINT (-118.2910190263339 34.24975471051744)</td>\n",
       "      <td>(D)</td>\n",
       "      <td>CA</td>\n",
       "      <td>28</td>\n",
       "      <td>4</td>\n",
       "      <td>3991.666667</td>\n",
       "      <td>$3,991</td>\n",
       "      <td>&lt;strong&gt;District:&lt;/strong&gt; CA-28&lt;br&gt;&lt;strong&gt;Nu...</td>\n",
       "    </tr>\n",
       "    <tr>\n",
       "      <th>412</th>\n",
       "      <td>CA-27</td>\n",
       "      <td>POINT (-117.9398636902012 34.2792017394125)</td>\n",
       "      <td>(D)</td>\n",
       "      <td>CA</td>\n",
       "      <td>27</td>\n",
       "      <td>4</td>\n",
       "      <td>4711.333333</td>\n",
       "      <td>$4,711</td>\n",
       "      <td>&lt;strong&gt;District:&lt;/strong&gt; CA-27&lt;br&gt;&lt;strong&gt;Nu...</td>\n",
       "    </tr>\n",
       "    <tr>\n",
       "      <th>413</th>\n",
       "      <td>CA-37</td>\n",
       "      <td>POINT (-118.3644376339293 34.01666799095301)</td>\n",
       "      <td>(D)</td>\n",
       "      <td>CA</td>\n",
       "      <td>37</td>\n",
       "      <td>9</td>\n",
       "      <td>4848.500000</td>\n",
       "      <td>$4,848</td>\n",
       "      <td>&lt;strong&gt;District:&lt;/strong&gt; CA-37&lt;br&gt;&lt;strong&gt;Nu...</td>\n",
       "    </tr>\n",
       "    <tr>\n",
       "      <th>414</th>\n",
       "      <td>CA-40</td>\n",
       "      <td>POINT (-118.177825413692 33.96946164589507)</td>\n",
       "      <td>(D)</td>\n",
       "      <td>CA</td>\n",
       "      <td>40</td>\n",
       "      <td>0</td>\n",
       "      <td>125.000000</td>\n",
       "      <td>$125</td>\n",
       "      <td>&lt;strong&gt;District:&lt;/strong&gt; CA-40&lt;br&gt;&lt;strong&gt;Nu...</td>\n",
       "    </tr>\n",
       "    <tr>\n",
       "      <th>415</th>\n",
       "      <td>GA-05</td>\n",
       "      <td>POINT (-84.4015167678584 33.70726161328023)</td>\n",
       "      <td>(D)</td>\n",
       "      <td>GA</td>\n",
       "      <td>05</td>\n",
       "      <td>19</td>\n",
       "      <td>10396.666670</td>\n",
       "      <td>$10,396</td>\n",
       "      <td>&lt;strong&gt;District:&lt;/strong&gt; GA-05&lt;br&gt;&lt;strong&gt;Nu...</td>\n",
       "    </tr>\n",
       "    <tr>\n",
       "      <th>416</th>\n",
       "      <td>PA-02</td>\n",
       "      <td>POINT (-75.22099179419794 40.01662386237335)</td>\n",
       "      <td>(D)</td>\n",
       "      <td>PA</td>\n",
       "      <td>02</td>\n",
       "      <td>2</td>\n",
       "      <td>1208.333333</td>\n",
       "      <td>$1,208</td>\n",
       "      <td>&lt;strong&gt;District:&lt;/strong&gt; PA-02&lt;br&gt;&lt;strong&gt;Nu...</td>\n",
       "    </tr>\n",
       "    <tr>\n",
       "      <th>417</th>\n",
       "      <td>PA-13</td>\n",
       "      <td>POINT (-75.15937450964599 40.12443387650167)</td>\n",
       "      <td>(D)</td>\n",
       "      <td>PA</td>\n",
       "      <td>13</td>\n",
       "      <td>4</td>\n",
       "      <td>1185.500000</td>\n",
       "      <td>$1,185</td>\n",
       "      <td>&lt;strong&gt;District:&lt;/strong&gt; PA-13&lt;br&gt;&lt;strong&gt;Nu...</td>\n",
       "    </tr>\n",
       "    <tr>\n",
       "      <th>418</th>\n",
       "      <td>CA-42</td>\n",
       "      <td>POINT (-117.2262380267806 33.67903434071057)</td>\n",
       "      <td>(R)</td>\n",
       "      <td>CA</td>\n",
       "      <td>42</td>\n",
       "      <td>11</td>\n",
       "      <td>4081.300000</td>\n",
       "      <td>$4,081</td>\n",
       "      <td>&lt;strong&gt;District:&lt;/strong&gt; CA-42&lt;br&gt;&lt;strong&gt;Nu...</td>\n",
       "    </tr>\n",
       "    <tr>\n",
       "      <th>419</th>\n",
       "      <td>CA-41</td>\n",
       "      <td>POINT (-117.3075911918547 33.91705027781205)</td>\n",
       "      <td>(D)</td>\n",
       "      <td>CA</td>\n",
       "      <td>41</td>\n",
       "      <td>2</td>\n",
       "      <td>616.133333</td>\n",
       "      <td>$616</td>\n",
       "      <td>&lt;strong&gt;District:&lt;/strong&gt; CA-41&lt;br&gt;&lt;strong&gt;Nu...</td>\n",
       "    </tr>\n",
       "    <tr>\n",
       "      <th>420</th>\n",
       "      <td>CA-36</td>\n",
       "      <td>POINT (-115.7200716769551 33.74659251722039)</td>\n",
       "      <td>(D)</td>\n",
       "      <td>CA</td>\n",
       "      <td>36</td>\n",
       "      <td>4</td>\n",
       "      <td>3867.800000</td>\n",
       "      <td>$3,867</td>\n",
       "      <td>&lt;strong&gt;District:&lt;/strong&gt; CA-36&lt;br&gt;&lt;strong&gt;Nu...</td>\n",
       "    </tr>\n",
       "    <tr>\n",
       "      <th>421</th>\n",
       "      <td>CA-31</td>\n",
       "      <td>POINT (-117.3532833994029 34.10970613324887)</td>\n",
       "      <td>(D)</td>\n",
       "      <td>CA</td>\n",
       "      <td>31</td>\n",
       "      <td>1</td>\n",
       "      <td>751.133333</td>\n",
       "      <td>$751</td>\n",
       "      <td>&lt;strong&gt;District:&lt;/strong&gt; CA-31&lt;br&gt;&lt;strong&gt;Nu...</td>\n",
       "    </tr>\n",
       "    <tr>\n",
       "      <th>422</th>\n",
       "      <td>IL-07</td>\n",
       "      <td>POINT (-87.73246641457065 41.86368593570917)</td>\n",
       "      <td>(D)</td>\n",
       "      <td>IL</td>\n",
       "      <td>07</td>\n",
       "      <td>8</td>\n",
       "      <td>3997.416667</td>\n",
       "      <td>$3,997</td>\n",
       "      <td>&lt;strong&gt;District:&lt;/strong&gt; IL-07&lt;br&gt;&lt;strong&gt;Nu...</td>\n",
       "    </tr>\n",
       "    <tr>\n",
       "      <th>423</th>\n",
       "      <td>IL-04</td>\n",
       "      <td>POINT (-87.76491999209922 41.87225703574819)</td>\n",
       "      <td>(D)</td>\n",
       "      <td>IL</td>\n",
       "      <td>04</td>\n",
       "      <td>3</td>\n",
       "      <td>901.416667</td>\n",
       "      <td>$901</td>\n",
       "      <td>&lt;strong&gt;District:&lt;/strong&gt; IL-04&lt;br&gt;&lt;strong&gt;Nu...</td>\n",
       "    </tr>\n",
       "    <tr>\n",
       "      <th>424</th>\n",
       "      <td>IL-09</td>\n",
       "      <td>POINT (-87.81010301407521 42.05216965767967)</td>\n",
       "      <td>(D)</td>\n",
       "      <td>IL</td>\n",
       "      <td>09</td>\n",
       "      <td>7</td>\n",
       "      <td>2956.666667</td>\n",
       "      <td>$2,956</td>\n",
       "      <td>&lt;strong&gt;District:&lt;/strong&gt; IL-09&lt;br&gt;&lt;strong&gt;Nu...</td>\n",
       "    </tr>\n",
       "    <tr>\n",
       "      <th>425</th>\n",
       "      <td>CA-11</td>\n",
       "      <td>POINT (-122.0017974597545 37.90434251616807)</td>\n",
       "      <td>(D)</td>\n",
       "      <td>CA</td>\n",
       "      <td>11</td>\n",
       "      <td>6</td>\n",
       "      <td>2397.333333</td>\n",
       "      <td>$2,397</td>\n",
       "      <td>&lt;strong&gt;District:&lt;/strong&gt; CA-11&lt;br&gt;&lt;strong&gt;Nu...</td>\n",
       "    </tr>\n",
       "    <tr>\n",
       "      <th>426</th>\n",
       "      <td>TN-09</td>\n",
       "      <td>POINT (-89.98049900208309 35.16757130728624)</td>\n",
       "      <td>(D)</td>\n",
       "      <td>TN</td>\n",
       "      <td>09</td>\n",
       "      <td>5</td>\n",
       "      <td>4251.500000</td>\n",
       "      <td>$4,251</td>\n",
       "      <td>&lt;strong&gt;District:&lt;/strong&gt; TN-09&lt;br&gt;&lt;strong&gt;Nu...</td>\n",
       "    </tr>\n",
       "    <tr>\n",
       "      <th>427</th>\n",
       "      <td>TX-32</td>\n",
       "      <td>POINT (-96.65226254311153 32.92067750585098)</td>\n",
       "      <td>(R)</td>\n",
       "      <td>TX</td>\n",
       "      <td>32</td>\n",
       "      <td>23</td>\n",
       "      <td>18553.833330</td>\n",
       "      <td>$18,553</td>\n",
       "      <td>&lt;strong&gt;District:&lt;/strong&gt; TX-32&lt;br&gt;&lt;strong&gt;Nu...</td>\n",
       "    </tr>\n",
       "    <tr>\n",
       "      <th>428</th>\n",
       "      <td>AZ-05</td>\n",
       "      <td>POINT (-111.7146255244352 33.33783628559159)</td>\n",
       "      <td>(R)</td>\n",
       "      <td>AZ</td>\n",
       "      <td>05</td>\n",
       "      <td>3</td>\n",
       "      <td>3450.000000</td>\n",
       "      <td>$3,450</td>\n",
       "      <td>&lt;strong&gt;District:&lt;/strong&gt; AZ-05&lt;br&gt;&lt;strong&gt;Nu...</td>\n",
       "    </tr>\n",
       "    <tr>\n",
       "      <th>429</th>\n",
       "      <td>AZ-07</td>\n",
       "      <td>POINT (-112.1190544506162 33.42858849093339)</td>\n",
       "      <td>(D)</td>\n",
       "      <td>AZ</td>\n",
       "      <td>07</td>\n",
       "      <td>4</td>\n",
       "      <td>5583.000000</td>\n",
       "      <td>$5,583</td>\n",
       "      <td>&lt;strong&gt;District:&lt;/strong&gt; AZ-07&lt;br&gt;&lt;strong&gt;Nu...</td>\n",
       "    </tr>\n",
       "    <tr>\n",
       "      <th>430</th>\n",
       "      <td>AZ-09</td>\n",
       "      <td>POINT (-111.9490018598418 33.40648066073369)</td>\n",
       "      <td>(D)</td>\n",
       "      <td>AZ</td>\n",
       "      <td>09</td>\n",
       "      <td>7</td>\n",
       "      <td>6023.000000</td>\n",
       "      <td>$6,023</td>\n",
       "      <td>&lt;strong&gt;District:&lt;/strong&gt; AZ-09&lt;br&gt;&lt;strong&gt;Nu...</td>\n",
       "    </tr>\n",
       "    <tr>\n",
       "      <th>431</th>\n",
       "      <td>AZ-06</td>\n",
       "      <td>POINT (-111.8904408535789 33.66755709550773)</td>\n",
       "      <td>(R)</td>\n",
       "      <td>AZ</td>\n",
       "      <td>06</td>\n",
       "      <td>27</td>\n",
       "      <td>16782.000000</td>\n",
       "      <td>$16,782</td>\n",
       "      <td>&lt;strong&gt;District:&lt;/strong&gt; AZ-06&lt;br&gt;&lt;strong&gt;Nu...</td>\n",
       "    </tr>\n",
       "    <tr>\n",
       "      <th>432</th>\n",
       "      <td>AZ-08</td>\n",
       "      <td>POINT (-112.300011573084 33.69251693157328)</td>\n",
       "      <td>(R)</td>\n",
       "      <td>AZ</td>\n",
       "      <td>08</td>\n",
       "      <td>10</td>\n",
       "      <td>2541.666667</td>\n",
       "      <td>$2,541</td>\n",
       "      <td>&lt;strong&gt;District:&lt;/strong&gt; AZ-08&lt;br&gt;&lt;strong&gt;Nu...</td>\n",
       "    </tr>\n",
       "    <tr>\n",
       "      <th>433</th>\n",
       "      <td>TX-03</td>\n",
       "      <td>POINT (-96.61509247184615 33.15803302902776)</td>\n",
       "      <td>(R)</td>\n",
       "      <td>TX</td>\n",
       "      <td>03</td>\n",
       "      <td>9</td>\n",
       "      <td>2778.833333</td>\n",
       "      <td>$2,778</td>\n",
       "      <td>&lt;strong&gt;District:&lt;/strong&gt; TX-03&lt;br&gt;&lt;strong&gt;Nu...</td>\n",
       "    </tr>\n",
       "    <tr>\n",
       "      <th>434</th>\n",
       "      <td>TX-30</td>\n",
       "      <td>POINT (-96.80075118886901 32.65652866114276)</td>\n",
       "      <td>(D)</td>\n",
       "      <td>TX</td>\n",
       "      <td>30</td>\n",
       "      <td>4</td>\n",
       "      <td>4184.166667</td>\n",
       "      <td>$4,184</td>\n",
       "      <td>&lt;strong&gt;District:&lt;/strong&gt; TX-30&lt;br&gt;&lt;strong&gt;Nu...</td>\n",
       "    </tr>\n",
       "    <tr>\n",
       "      <th>435</th>\n",
       "      <td>NY-01</td>\n",
       "      <td>POINT (-72.5516955209031 40.9802453024694)</td>\n",
       "      <td>(D)</td>\n",
       "      <td>NY</td>\n",
       "      <td>01</td>\n",
       "      <td>14</td>\n",
       "      <td>4536.500000</td>\n",
       "      <td>$4,536</td>\n",
       "      <td>&lt;strong&gt;District:&lt;/strong&gt; NY-01&lt;br&gt;&lt;strong&gt;Nu...</td>\n",
       "    </tr>\n",
       "  </tbody>\n",
       "</table>\n",
       "<p>436 rows × 9 columns</p>\n",
       "</div>"
      ],
      "text/plain": [
       "     cd_id                                      geometry party state district  \\\n",
       "0    NC-01  POINT (-77.51369409502156 36.09876447243866)   (D)    NC       01   \n",
       "1    NC-03  POINT (-76.61938684826103 35.41056159586817)   (R)    NC       03   \n",
       "2    MA-04  POINT (-71.23234410807179 41.99125362437578)   (D)    MA       04   \n",
       "3    MA-09  POINT (-70.48147673169255 41.69417780735502)   (D)    MA       09   \n",
       "4    MA-08  POINT (-70.94364106832272 42.19298731657016)   (D)    MA       08   \n",
       "5    VA-11    POINT (-77.294793779834 38.78810996655279)   (D)    VA       11   \n",
       "6    CO-04  POINT (-103.3752189589195 39.06218571170709)   (R)    CO       04   \n",
       "7    KY-06  POINT (-84.16266380335531 38.04833852400073)   (R)    KY       06   \n",
       "8    AL-06  POINT (-86.71298133896737 33.26337958140939)   (R)    AL       06   \n",
       "9    TX-04  POINT (-95.40442140966132 33.31037079071876)   (R)    TX       04   \n",
       "10   LA-05  POINT (-91.82491050101784 31.76774459369084)   (R)    LA       05   \n",
       "11   GA-02  POINT (-84.41145453868906 31.82104682706323)   (D)    GA       02   \n",
       "12   NJ-09  POINT (-74.07346349442811 40.86076224890873)   (D)    NJ       09   \n",
       "13   NY-24   POINT (-76.6465857775198 43.20352703103627)   (D)    NY       24   \n",
       "14   OR-01    POINT (-123.338118611796 45.7223874183204)   (D)    OR       01   \n",
       "15   VA-09  POINT (-81.31963434846233 36.99227980007436)   (R)    VA       09   \n",
       "16   TN-04  POINT (-85.96003834440391 35.45048769605723)   (R)    TN       04   \n",
       "17   MI-10  POINT (-82.87094457655569 43.46253496954704)   (R)    MI       10   \n",
       "18   NV-04  POINT (-116.0006950422582 38.09112975923396)   (D)    NV       04   \n",
       "19   NV-02  POINT (-117.3060869521403 40.64568936839792)   (R)    NV       02   \n",
       "20   OH-01  POINT (-84.34554163697389 39.33650169588491)   (R)    OH       01   \n",
       "21   MN-03   POINT (-93.52957819486882 44.9964211399291)   (D)    MN       03   \n",
       "22   PA-06   POINT (-75.7996911640389 40.25247411890171)   (R)    PA       06   \n",
       "23   PA-16  POINT (-76.20557958193083 40.02480100200579)   (R)    PA       16   \n",
       "24   PA-15  POINT (-75.95222245587408 40.53032657791567)   (R)    PA       15   \n",
       "25   CA-16  POINT (-120.5309438211714 37.11154012276405)   (D)    CA       16   \n",
       "26   CA-21  POINT (-119.8512576732907 36.08176249154742)   (D)    CA       21   \n",
       "27   CA-22  POINT (-119.3894473135757 36.48740828090241)   (R)    CA       22   \n",
       "28   CT-03   POINT (-72.8785336637586 41.38029814868609)   (D)    CT       03   \n",
       "29   CT-04    POINT (-73.3872548841247 41.1950473789115)   (D)    CT       04   \n",
       "..     ...                                           ...   ...   ...      ...   \n",
       "406  CA-34   POINT (-118.2276640042644 34.0746773878558)   (D)    CA       34   \n",
       "407  CA-32  POINT (-117.9144736419669 34.08966504188117)   (D)    CA       32   \n",
       "408  CA-43  POINT (-118.3352053478572 33.90363749659421)   (D)    CA       43   \n",
       "409  CA-35  POINT (-117.5882239032858 34.04674027236695)   (D)    CA       35   \n",
       "410  CA-44  POINT (-118.2496170372503 33.81857729414089)   (D)    CA       44   \n",
       "411  CA-28  POINT (-118.2910190263339 34.24975471051744)   (D)    CA       28   \n",
       "412  CA-27   POINT (-117.9398636902012 34.2792017394125)   (D)    CA       27   \n",
       "413  CA-37  POINT (-118.3644376339293 34.01666799095301)   (D)    CA       37   \n",
       "414  CA-40   POINT (-118.177825413692 33.96946164589507)   (D)    CA       40   \n",
       "415  GA-05   POINT (-84.4015167678584 33.70726161328023)   (D)    GA       05   \n",
       "416  PA-02  POINT (-75.22099179419794 40.01662386237335)   (D)    PA       02   \n",
       "417  PA-13  POINT (-75.15937450964599 40.12443387650167)   (D)    PA       13   \n",
       "418  CA-42  POINT (-117.2262380267806 33.67903434071057)   (R)    CA       42   \n",
       "419  CA-41  POINT (-117.3075911918547 33.91705027781205)   (D)    CA       41   \n",
       "420  CA-36  POINT (-115.7200716769551 33.74659251722039)   (D)    CA       36   \n",
       "421  CA-31  POINT (-117.3532833994029 34.10970613324887)   (D)    CA       31   \n",
       "422  IL-07  POINT (-87.73246641457065 41.86368593570917)   (D)    IL       07   \n",
       "423  IL-04  POINT (-87.76491999209922 41.87225703574819)   (D)    IL       04   \n",
       "424  IL-09  POINT (-87.81010301407521 42.05216965767967)   (D)    IL       09   \n",
       "425  CA-11  POINT (-122.0017974597545 37.90434251616807)   (D)    CA       11   \n",
       "426  TN-09  POINT (-89.98049900208309 35.16757130728624)   (D)    TN       09   \n",
       "427  TX-32  POINT (-96.65226254311153 32.92067750585098)   (R)    TX       32   \n",
       "428  AZ-05  POINT (-111.7146255244352 33.33783628559159)   (R)    AZ       05   \n",
       "429  AZ-07  POINT (-112.1190544506162 33.42858849093339)   (D)    AZ       07   \n",
       "430  AZ-09  POINT (-111.9490018598418 33.40648066073369)   (D)    AZ       09   \n",
       "431  AZ-06  POINT (-111.8904408535789 33.66755709550773)   (R)    AZ       06   \n",
       "432  AZ-08   POINT (-112.300011573084 33.69251693157328)   (R)    AZ       08   \n",
       "433  TX-03  POINT (-96.61509247184615 33.15803302902776)   (R)    TX       03   \n",
       "434  TX-30  POINT (-96.80075118886901 32.65652866114276)   (D)    TX       30   \n",
       "435  NY-01    POINT (-72.5516955209031 40.9802453024694)   (D)    NY       01   \n",
       "\n",
       "     split_num      split_amt dollar_amt  \\\n",
       "0            6    2331.000000     $2,331   \n",
       "1            6    2265.000000     $2,265   \n",
       "2           28   14837.333330    $14,837   \n",
       "3           13    5899.000000     $5,899   \n",
       "4           15  175855.333300   $175,855   \n",
       "5            6    1978.166667     $1,978   \n",
       "6           13    9345.333333     $9,345   \n",
       "7            9    4482.000000     $4,482   \n",
       "8            6    3165.333333     $3,165   \n",
       "9            8    4895.000000     $4,895   \n",
       "10           5    3732.833333     $3,732   \n",
       "11           3    1037.000000     $1,037   \n",
       "12           5    1290.500000     $1,290   \n",
       "13           5    2915.000000     $2,915   \n",
       "14           7    3780.500000     $3,780   \n",
       "15          10    5358.000000     $5,358   \n",
       "16           5    2725.000000     $2,725   \n",
       "17           6    2260.333333     $2,260   \n",
       "18           4    1646.000000     $1,646   \n",
       "19          24   10007.000000    $10,007   \n",
       "20           9    3726.166667     $3,726   \n",
       "21           9    4019.000000     $4,019   \n",
       "22           7    1852.333333     $1,852   \n",
       "23          12    6035.666667     $6,035   \n",
       "24           6    1632.500000     $1,632   \n",
       "25           2    1004.000000     $1,004   \n",
       "26           1     353.000000       $353   \n",
       "27           5    1798.000000     $1,798   \n",
       "28           6    1561.000000     $1,561   \n",
       "29          10    7260.000000     $7,260   \n",
       "..         ...            ...        ...   \n",
       "406          4    1208.333333     $1,208   \n",
       "407          1     708.333333       $708   \n",
       "408          1     564.500000       $564   \n",
       "409          5    1590.666667     $1,590   \n",
       "410          6    4593.333333     $4,593   \n",
       "411          4    3991.666667     $3,991   \n",
       "412          4    4711.333333     $4,711   \n",
       "413          9    4848.500000     $4,848   \n",
       "414          0     125.000000       $125   \n",
       "415         19   10396.666670    $10,396   \n",
       "416          2    1208.333333     $1,208   \n",
       "417          4    1185.500000     $1,185   \n",
       "418         11    4081.300000     $4,081   \n",
       "419          2     616.133333       $616   \n",
       "420          4    3867.800000     $3,867   \n",
       "421          1     751.133333       $751   \n",
       "422          8    3997.416667     $3,997   \n",
       "423          3     901.416667       $901   \n",
       "424          7    2956.666667     $2,956   \n",
       "425          6    2397.333333     $2,397   \n",
       "426          5    4251.500000     $4,251   \n",
       "427         23   18553.833330    $18,553   \n",
       "428          3    3450.000000     $3,450   \n",
       "429          4    5583.000000     $5,583   \n",
       "430          7    6023.000000     $6,023   \n",
       "431         27   16782.000000    $16,782   \n",
       "432         10    2541.666667     $2,541   \n",
       "433          9    2778.833333     $2,778   \n",
       "434          4    4184.166667     $4,184   \n",
       "435         14    4536.500000     $4,536   \n",
       "\n",
       "                                                  text  \n",
       "0    <strong>District:</strong> NC-01<br><strong>Nu...  \n",
       "1    <strong>District:</strong> NC-03<br><strong>Nu...  \n",
       "2    <strong>District:</strong> MA-04<br><strong>Nu...  \n",
       "3    <strong>District:</strong> MA-09<br><strong>Nu...  \n",
       "4    <strong>District:</strong> MA-08<br><strong>Nu...  \n",
       "5    <strong>District:</strong> VA-11<br><strong>Nu...  \n",
       "6    <strong>District:</strong> CO-04<br><strong>Nu...  \n",
       "7    <strong>District:</strong> KY-06<br><strong>Nu...  \n",
       "8    <strong>District:</strong> AL-06<br><strong>Nu...  \n",
       "9    <strong>District:</strong> TX-04<br><strong>Nu...  \n",
       "10   <strong>District:</strong> LA-05<br><strong>Nu...  \n",
       "11   <strong>District:</strong> GA-02<br><strong>Nu...  \n",
       "12   <strong>District:</strong> NJ-09<br><strong>Nu...  \n",
       "13   <strong>District:</strong> NY-24<br><strong>Nu...  \n",
       "14   <strong>District:</strong> OR-01<br><strong>Nu...  \n",
       "15   <strong>District:</strong> VA-09<br><strong>Nu...  \n",
       "16   <strong>District:</strong> TN-04<br><strong>Nu...  \n",
       "17   <strong>District:</strong> MI-10<br><strong>Nu...  \n",
       "18   <strong>District:</strong> NV-04<br><strong>Nu...  \n",
       "19   <strong>District:</strong> NV-02<br><strong>Nu...  \n",
       "20   <strong>District:</strong> OH-01<br><strong>Nu...  \n",
       "21   <strong>District:</strong> MN-03<br><strong>Nu...  \n",
       "22   <strong>District:</strong> PA-06<br><strong>Nu...  \n",
       "23   <strong>District:</strong> PA-16<br><strong>Nu...  \n",
       "24   <strong>District:</strong> PA-15<br><strong>Nu...  \n",
       "25   <strong>District:</strong> CA-16<br><strong>Nu...  \n",
       "26   <strong>District:</strong> CA-21<br><strong>Nu...  \n",
       "27   <strong>District:</strong> CA-22<br><strong>Nu...  \n",
       "28   <strong>District:</strong> CT-03<br><strong>Nu...  \n",
       "29   <strong>District:</strong> CT-04<br><strong>Nu...  \n",
       "..                                                 ...  \n",
       "406  <strong>District:</strong> CA-34<br><strong>Nu...  \n",
       "407  <strong>District:</strong> CA-32<br><strong>Nu...  \n",
       "408  <strong>District:</strong> CA-43<br><strong>Nu...  \n",
       "409  <strong>District:</strong> CA-35<br><strong>Nu...  \n",
       "410  <strong>District:</strong> CA-44<br><strong>Nu...  \n",
       "411  <strong>District:</strong> CA-28<br><strong>Nu...  \n",
       "412  <strong>District:</strong> CA-27<br><strong>Nu...  \n",
       "413  <strong>District:</strong> CA-37<br><strong>Nu...  \n",
       "414  <strong>District:</strong> CA-40<br><strong>Nu...  \n",
       "415  <strong>District:</strong> GA-05<br><strong>Nu...  \n",
       "416  <strong>District:</strong> PA-02<br><strong>Nu...  \n",
       "417  <strong>District:</strong> PA-13<br><strong>Nu...  \n",
       "418  <strong>District:</strong> CA-42<br><strong>Nu...  \n",
       "419  <strong>District:</strong> CA-41<br><strong>Nu...  \n",
       "420  <strong>District:</strong> CA-36<br><strong>Nu...  \n",
       "421  <strong>District:</strong> CA-31<br><strong>Nu...  \n",
       "422  <strong>District:</strong> IL-07<br><strong>Nu...  \n",
       "423  <strong>District:</strong> IL-04<br><strong>Nu...  \n",
       "424  <strong>District:</strong> IL-09<br><strong>Nu...  \n",
       "425  <strong>District:</strong> CA-11<br><strong>Nu...  \n",
       "426  <strong>District:</strong> TN-09<br><strong>Nu...  \n",
       "427  <strong>District:</strong> TX-32<br><strong>Nu...  \n",
       "428  <strong>District:</strong> AZ-05<br><strong>Nu...  \n",
       "429  <strong>District:</strong> AZ-07<br><strong>Nu...  \n",
       "430  <strong>District:</strong> AZ-09<br><strong>Nu...  \n",
       "431  <strong>District:</strong> AZ-06<br><strong>Nu...  \n",
       "432  <strong>District:</strong> AZ-08<br><strong>Nu...  \n",
       "433  <strong>District:</strong> TX-03<br><strong>Nu...  \n",
       "434  <strong>District:</strong> TX-30<br><strong>Nu...  \n",
       "435  <strong>District:</strong> NY-01<br><strong>Nu...  \n",
       "\n",
       "[436 rows x 9 columns]"
      ]
     },
     "execution_count": 388,
     "metadata": {},
     "output_type": "execute_result"
    }
   ],
   "source": [
    "#create display text var \n",
    "trump_pts_split['text'] = trump_pts_split[['cd_id','split_num', 'dollar_amt']].apply(lambda x : '<strong>District:</strong> {}<br><strong>Number of Contributors:</strong> {}<br><strong>Total Amount:</strong> {}'.format(x[0],x[1], x[2]), axis=1)\n",
    "trump_pts_split"
   ]
  },
  {
   "cell_type": "code",
   "execution_count": 389,
   "metadata": {
    "collapsed": true
   },
   "outputs": [],
   "source": [
    "#remake GeoSeries\n",
    "crs = None\n",
    "geometry = trump_pts_split['geometry']\n",
    "trump_data = gpd.GeoDataFrame(trump_pts_split, crs=crs, geometry=geometry)"
   ]
  },
  {
   "cell_type": "code",
   "execution_count": 390,
   "metadata": {
    "collapsed": true
   },
   "outputs": [],
   "source": [
    "trump_data.to_file('trump_data.shp', driver=\"ESRI Shapefile\")"
   ]
  },
  {
   "cell_type": "code",
   "execution_count": null,
   "metadata": {
    "collapsed": true
   },
   "outputs": [],
   "source": []
  }
 ],
 "metadata": {
  "kernelspec": {
   "display_name": "Python 2",
   "language": "python",
   "name": "python2"
  },
  "language_info": {
   "codemirror_mode": {
    "name": "ipython",
    "version": 2
   },
   "file_extension": ".py",
   "mimetype": "text/x-python",
   "name": "python",
   "nbconvert_exporter": "python",
   "pygments_lexer": "ipython2",
   "version": "2.7.10"
  }
 },
 "nbformat": 4,
 "nbformat_minor": 0
}
